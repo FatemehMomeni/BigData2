{
  "nbformat": 4,
  "nbformat_minor": 0,
  "metadata": {
    "colab": {
      "name": "BigData2.ipynb",
      "provenance": [],
      "collapsed_sections": [
        "xfVnoRJPMEQw",
        "09JkGR4FMGhe",
        "CoRUnKfoMTRs",
        "VPhHiivrMXjG",
        "oohWo3fuMdem",
        "Z5lISOTxMkZ_",
        "TSo0GeBPMt1L",
        "MKi0zgvEMxNC",
        "S3zwXMuiMyrI",
        "pUDgf9jXM0i6"
      ],
      "authorship_tag": "ABX9TyMQfx91JDpw8nz/RfarxZLA",
      "include_colab_link": true
    },
    "kernelspec": {
      "name": "python3",
      "display_name": "Python 3"
    },
    "language_info": {
      "name": "python"
    }
  },
  "cells": [
    {
      "cell_type": "markdown",
      "metadata": {
        "id": "view-in-github",
        "colab_type": "text"
      },
      "source": [
        "<a href=\"https://colab.research.google.com/github/FatemehMomeni/BigData2/blob/main/BigData2.ipynb\" target=\"_parent\"><img src=\"https://colab.research.google.com/assets/colab-badge.svg\" alt=\"Open In Colab\"/></a>"
      ]
    },
    {
      "cell_type": "code",
      "execution_count": 1,
      "metadata": {
        "colab": {
          "base_uri": "https://localhost:8080/"
        },
        "id": "8T7qwC4FK9o8",
        "outputId": "1052bde6-76af-4978-b5b9-3e4a2e7ad102"
      },
      "outputs": [
        {
          "output_type": "stream",
          "name": "stdout",
          "text": [
            "\u001b[K     |████████████████████████████████| 281.4 MB 32 kB/s \n",
            "\u001b[K     |████████████████████████████████| 198 kB 47.4 MB/s \n",
            "\u001b[?25h  Building wheel for pyspark (setup.py) ... \u001b[?25l\u001b[?25hdone\n"
          ]
        }
      ],
      "source": [
        "!pip install pyspark --quiet\n",
        "!pip install -U -q PyDrive --quiet \n",
        "!apt install openjdk-8-jdk-headless &> /dev/null"
      ]
    },
    {
      "cell_type": "code",
      "source": [
        "import os\n",
        "os.environ[\"JAVA_HOME\"] = \"/usr/lib/jvm/java-8-openjdk-amd64\""
      ],
      "metadata": {
        "id": "EItTRD1ULA5k"
      },
      "execution_count": 2,
      "outputs": []
    },
    {
      "cell_type": "code",
      "source": [
        "from google.colab import drive\n",
        "drive.mount('/content/gdrive')"
      ],
      "metadata": {
        "colab": {
          "base_uri": "https://localhost:8080/"
        },
        "id": "hnViUrryLWX0",
        "outputId": "ce0e5d4a-eb8a-4965-afae-52a187eb9ce8"
      },
      "execution_count": 3,
      "outputs": [
        {
          "output_type": "stream",
          "name": "stdout",
          "text": [
            "Mounted at /content/gdrive\n"
          ]
        }
      ]
    },
    {
      "cell_type": "code",
      "source": [
        "!pip install gdown\n",
        "!pip install --upgrade --no-cache-dir gdown\n",
        "!gdown --id 1y1BXUZPKDke_LpL7Lmgr4v1WzOrGg1qw\n",
        "!unzip \"gdrive/MyDrive/HW2_dataset.zip\" -d \"./\""
      ],
      "metadata": {
        "colab": {
          "base_uri": "https://localhost:8080/"
        },
        "id": "duJq_PrZLZCU",
        "outputId": "16aeee5f-5a90-4732-ad70-0a11cbdf6ad1"
      },
      "execution_count": 4,
      "outputs": [
        {
          "output_type": "stream",
          "name": "stdout",
          "text": [
            "Requirement already satisfied: gdown in /usr/local/lib/python3.7/dist-packages (4.2.2)\n",
            "Requirement already satisfied: tqdm in /usr/local/lib/python3.7/dist-packages (from gdown) (4.63.0)\n",
            "Requirement already satisfied: requests[socks] in /usr/local/lib/python3.7/dist-packages (from gdown) (2.23.0)\n",
            "Requirement already satisfied: six in /usr/local/lib/python3.7/dist-packages (from gdown) (1.15.0)\n",
            "Requirement already satisfied: filelock in /usr/local/lib/python3.7/dist-packages (from gdown) (3.6.0)\n",
            "Requirement already satisfied: beautifulsoup4 in /usr/local/lib/python3.7/dist-packages (from gdown) (4.6.3)\n",
            "Requirement already satisfied: certifi>=2017.4.17 in /usr/local/lib/python3.7/dist-packages (from requests[socks]->gdown) (2021.10.8)\n",
            "Requirement already satisfied: chardet<4,>=3.0.2 in /usr/local/lib/python3.7/dist-packages (from requests[socks]->gdown) (3.0.4)\n",
            "Requirement already satisfied: urllib3!=1.25.0,!=1.25.1,<1.26,>=1.21.1 in /usr/local/lib/python3.7/dist-packages (from requests[socks]->gdown) (1.24.3)\n",
            "Requirement already satisfied: idna<3,>=2.5 in /usr/local/lib/python3.7/dist-packages (from requests[socks]->gdown) (2.10)\n",
            "Requirement already satisfied: PySocks!=1.5.7,>=1.5.6 in /usr/local/lib/python3.7/dist-packages (from requests[socks]->gdown) (1.7.1)\n",
            "Requirement already satisfied: gdown in /usr/local/lib/python3.7/dist-packages (4.2.2)\n",
            "Collecting gdown\n",
            "  Downloading gdown-4.4.0.tar.gz (14 kB)\n",
            "  Installing build dependencies ... \u001b[?25l\u001b[?25hdone\n",
            "  Getting requirements to build wheel ... \u001b[?25l\u001b[?25hdone\n",
            "    Preparing wheel metadata ... \u001b[?25l\u001b[?25hdone\n",
            "Requirement already satisfied: filelock in /usr/local/lib/python3.7/dist-packages (from gdown) (3.6.0)\n",
            "Requirement already satisfied: tqdm in /usr/local/lib/python3.7/dist-packages (from gdown) (4.63.0)\n",
            "Requirement already satisfied: six in /usr/local/lib/python3.7/dist-packages (from gdown) (1.15.0)\n",
            "Requirement already satisfied: requests[socks] in /usr/local/lib/python3.7/dist-packages (from gdown) (2.23.0)\n",
            "Requirement already satisfied: beautifulsoup4 in /usr/local/lib/python3.7/dist-packages (from gdown) (4.6.3)\n",
            "Requirement already satisfied: urllib3!=1.25.0,!=1.25.1,<1.26,>=1.21.1 in /usr/local/lib/python3.7/dist-packages (from requests[socks]->gdown) (1.24.3)\n",
            "Requirement already satisfied: certifi>=2017.4.17 in /usr/local/lib/python3.7/dist-packages (from requests[socks]->gdown) (2021.10.8)\n",
            "Requirement already satisfied: chardet<4,>=3.0.2 in /usr/local/lib/python3.7/dist-packages (from requests[socks]->gdown) (3.0.4)\n",
            "Requirement already satisfied: idna<3,>=2.5 in /usr/local/lib/python3.7/dist-packages (from requests[socks]->gdown) (2.10)\n",
            "Requirement already satisfied: PySocks!=1.5.7,>=1.5.6 in /usr/local/lib/python3.7/dist-packages (from requests[socks]->gdown) (1.7.1)\n",
            "Building wheels for collected packages: gdown\n",
            "  Building wheel for gdown (PEP 517) ... \u001b[?25l\u001b[?25hdone\n",
            "  Created wheel for gdown: filename=gdown-4.4.0-py3-none-any.whl size=14774 sha256=d1396881a0e48a7770f9a023031cc067f935245568fccb17075ad89b8d23ee81\n",
            "  Stored in directory: /tmp/pip-ephem-wheel-cache-ft4um4js/wheels/fb/c3/0e/c4d8ff8bfcb0461afff199471449f642179b74968c15b7a69c\n",
            "Successfully built gdown\n",
            "Installing collected packages: gdown\n",
            "  Attempting uninstall: gdown\n",
            "    Found existing installation: gdown 4.2.2\n",
            "    Uninstalling gdown-4.2.2:\n",
            "      Successfully uninstalled gdown-4.2.2\n",
            "Successfully installed gdown-4.4.0\n",
            "/usr/local/lib/python3.7/dist-packages/gdown/cli.py:131: FutureWarning: Option `--id` was deprecated in version 4.3.1 and will be removed in 5.0. You don't need to pass it anymore to use a file ID.\n",
            "  category=FutureWarning,\n",
            "Downloading...\n",
            "From: https://drive.google.com/uc?id=1y1BXUZPKDke_LpL7Lmgr4v1WzOrGg1qw\n",
            "To: /content/HW2_dataset.zip\n",
            "100% 6.43G/6.43G [01:28<00:00, 72.5MB/s]\n",
            "Archive:  gdrive/MyDrive/HW2_dataset.zip\n",
            "   creating: ./products_parquet/\n",
            "  inflating: ./products_parquet/.part-00000-0f978a44-491b-411b-9bf5-266bd9d4e836-c000.snappy.parquet.crc  \n",
            "  inflating: ./products_parquet/.part-00001-0f978a44-491b-411b-9bf5-266bd9d4e836-c000.snappy.parquet.crc  \n",
            "  inflating: ./products_parquet/.part-00002-0f978a44-491b-411b-9bf5-266bd9d4e836-c000.snappy.parquet.crc  \n",
            "  inflating: ./products_parquet/.part-00003-0f978a44-491b-411b-9bf5-266bd9d4e836-c000.snappy.parquet.crc  \n",
            "  inflating: ./products_parquet/.part-00004-0f978a44-491b-411b-9bf5-266bd9d4e836-c000.snappy.parquet.crc  \n",
            "  inflating: ./products_parquet/.part-00005-0f978a44-491b-411b-9bf5-266bd9d4e836-c000.snappy.parquet.crc  \n",
            "  inflating: ./products_parquet/.part-00006-0f978a44-491b-411b-9bf5-266bd9d4e836-c000.snappy.parquet.crc  \n",
            "  inflating: ./products_parquet/.part-00007-0f978a44-491b-411b-9bf5-266bd9d4e836-c000.snappy.parquet.crc  \n",
            "  inflating: ./products_parquet/.part-00008-0f978a44-491b-411b-9bf5-266bd9d4e836-c000.snappy.parquet.crc  \n",
            "  inflating: ./products_parquet/.part-00009-0f978a44-491b-411b-9bf5-266bd9d4e836-c000.snappy.parquet.crc  \n",
            "  inflating: ./products_parquet/.part-00010-0f978a44-491b-411b-9bf5-266bd9d4e836-c000.snappy.parquet.crc  \n",
            "  inflating: ./products_parquet/.part-00011-0f978a44-491b-411b-9bf5-266bd9d4e836-c000.snappy.parquet.crc  \n",
            "  inflating: ./products_parquet/.part-00012-0f978a44-491b-411b-9bf5-266bd9d4e836-c000.snappy.parquet.crc  \n",
            "  inflating: ./products_parquet/.part-00013-0f978a44-491b-411b-9bf5-266bd9d4e836-c000.snappy.parquet.crc  \n",
            "  inflating: ./products_parquet/.part-00014-0f978a44-491b-411b-9bf5-266bd9d4e836-c000.snappy.parquet.crc  \n",
            "  inflating: ./products_parquet/.part-00015-0f978a44-491b-411b-9bf5-266bd9d4e836-c000.snappy.parquet.crc  \n",
            "  inflating: ./products_parquet/.part-00016-0f978a44-491b-411b-9bf5-266bd9d4e836-c000.snappy.parquet.crc  \n",
            " extracting: ./products_parquet/._SUCCESS.crc  \n",
            "  inflating: ./products_parquet/part-00000-0f978a44-491b-411b-9bf5-266bd9d4e836-c000.snappy.parquet  \n",
            "  inflating: ./products_parquet/part-00001-0f978a44-491b-411b-9bf5-266bd9d4e836-c000.snappy.parquet  \n",
            "  inflating: ./products_parquet/part-00002-0f978a44-491b-411b-9bf5-266bd9d4e836-c000.snappy.parquet  \n",
            "  inflating: ./products_parquet/part-00003-0f978a44-491b-411b-9bf5-266bd9d4e836-c000.snappy.parquet  \n",
            "  inflating: ./products_parquet/part-00004-0f978a44-491b-411b-9bf5-266bd9d4e836-c000.snappy.parquet  \n",
            "  inflating: ./products_parquet/part-00005-0f978a44-491b-411b-9bf5-266bd9d4e836-c000.snappy.parquet  \n",
            "  inflating: ./products_parquet/part-00006-0f978a44-491b-411b-9bf5-266bd9d4e836-c000.snappy.parquet  \n",
            "  inflating: ./products_parquet/part-00007-0f978a44-491b-411b-9bf5-266bd9d4e836-c000.snappy.parquet  \n",
            "  inflating: ./products_parquet/part-00008-0f978a44-491b-411b-9bf5-266bd9d4e836-c000.snappy.parquet  \n",
            "  inflating: ./products_parquet/part-00009-0f978a44-491b-411b-9bf5-266bd9d4e836-c000.snappy.parquet  \n",
            "  inflating: ./products_parquet/part-00010-0f978a44-491b-411b-9bf5-266bd9d4e836-c000.snappy.parquet  \n",
            "  inflating: ./products_parquet/part-00011-0f978a44-491b-411b-9bf5-266bd9d4e836-c000.snappy.parquet  \n",
            "  inflating: ./products_parquet/part-00012-0f978a44-491b-411b-9bf5-266bd9d4e836-c000.snappy.parquet  \n",
            "  inflating: ./products_parquet/part-00013-0f978a44-491b-411b-9bf5-266bd9d4e836-c000.snappy.parquet  \n",
            "  inflating: ./products_parquet/part-00014-0f978a44-491b-411b-9bf5-266bd9d4e836-c000.snappy.parquet  \n",
            "  inflating: ./products_parquet/part-00015-0f978a44-491b-411b-9bf5-266bd9d4e836-c000.snappy.parquet  \n",
            "  inflating: ./products_parquet/part-00016-0f978a44-491b-411b-9bf5-266bd9d4e836-c000.snappy.parquet  \n",
            " extracting: ./products_parquet/_SUCCESS  \n",
            "   creating: ./sales_parquet/\n",
            " extracting: ./sales_parquet/.part-00000-e651a798-938c-4056-96ac-b29d9c3b497e-c000.snappy.parquet.crc  \n",
            " extracting: ./sales_parquet/.part-00001-e651a798-938c-4056-96ac-b29d9c3b497e-c000.snappy.parquet.crc  \n",
            " extracting: ./sales_parquet/.part-00002-e651a798-938c-4056-96ac-b29d9c3b497e-c000.snappy.parquet.crc  \n",
            " extracting: ./sales_parquet/.part-00003-e651a798-938c-4056-96ac-b29d9c3b497e-c000.snappy.parquet.crc  \n",
            " extracting: ./sales_parquet/.part-00004-e651a798-938c-4056-96ac-b29d9c3b497e-c000.snappy.parquet.crc  \n",
            " extracting: ./sales_parquet/.part-00005-e651a798-938c-4056-96ac-b29d9c3b497e-c000.snappy.parquet.crc  \n",
            " extracting: ./sales_parquet/.part-00006-e651a798-938c-4056-96ac-b29d9c3b497e-c000.snappy.parquet.crc  \n",
            " extracting: ./sales_parquet/.part-00007-e651a798-938c-4056-96ac-b29d9c3b497e-c000.snappy.parquet.crc  \n",
            " extracting: ./sales_parquet/.part-00008-e651a798-938c-4056-96ac-b29d9c3b497e-c000.snappy.parquet.crc  \n",
            " extracting: ./sales_parquet/.part-00009-e651a798-938c-4056-96ac-b29d9c3b497e-c000.snappy.parquet.crc  \n",
            " extracting: ./sales_parquet/.part-00010-e651a798-938c-4056-96ac-b29d9c3b497e-c000.snappy.parquet.crc  \n",
            " extracting: ./sales_parquet/.part-00011-e651a798-938c-4056-96ac-b29d9c3b497e-c000.snappy.parquet.crc  \n",
            " extracting: ./sales_parquet/.part-00012-e651a798-938c-4056-96ac-b29d9c3b497e-c000.snappy.parquet.crc  \n",
            " extracting: ./sales_parquet/.part-00013-e651a798-938c-4056-96ac-b29d9c3b497e-c000.snappy.parquet.crc  \n",
            " extracting: ./sales_parquet/.part-00014-e651a798-938c-4056-96ac-b29d9c3b497e-c000.snappy.parquet.crc  \n",
            " extracting: ./sales_parquet/.part-00015-e651a798-938c-4056-96ac-b29d9c3b497e-c000.snappy.parquet.crc  \n",
            " extracting: ./sales_parquet/.part-00016-e651a798-938c-4056-96ac-b29d9c3b497e-c000.snappy.parquet.crc  \n",
            " extracting: ./sales_parquet/.part-00017-e651a798-938c-4056-96ac-b29d9c3b497e-c000.snappy.parquet.crc  \n",
            " extracting: ./sales_parquet/.part-00018-e651a798-938c-4056-96ac-b29d9c3b497e-c000.snappy.parquet.crc  \n",
            " extracting: ./sales_parquet/.part-00019-e651a798-938c-4056-96ac-b29d9c3b497e-c000.snappy.parquet.crc  \n",
            " extracting: ./sales_parquet/.part-00020-e651a798-938c-4056-96ac-b29d9c3b497e-c000.snappy.parquet.crc  \n",
            " extracting: ./sales_parquet/.part-00021-e651a798-938c-4056-96ac-b29d9c3b497e-c000.snappy.parquet.crc  \n",
            " extracting: ./sales_parquet/.part-00022-e651a798-938c-4056-96ac-b29d9c3b497e-c000.snappy.parquet.crc  \n",
            " extracting: ./sales_parquet/.part-00023-e651a798-938c-4056-96ac-b29d9c3b497e-c000.snappy.parquet.crc  \n",
            " extracting: ./sales_parquet/.part-00024-e651a798-938c-4056-96ac-b29d9c3b497e-c000.snappy.parquet.crc  \n",
            " extracting: ./sales_parquet/.part-00025-e651a798-938c-4056-96ac-b29d9c3b497e-c000.snappy.parquet.crc  \n",
            " extracting: ./sales_parquet/.part-00026-e651a798-938c-4056-96ac-b29d9c3b497e-c000.snappy.parquet.crc  \n",
            " extracting: ./sales_parquet/.part-00027-e651a798-938c-4056-96ac-b29d9c3b497e-c000.snappy.parquet.crc  \n",
            " extracting: ./sales_parquet/.part-00028-e651a798-938c-4056-96ac-b29d9c3b497e-c000.snappy.parquet.crc  \n",
            " extracting: ./sales_parquet/.part-00029-e651a798-938c-4056-96ac-b29d9c3b497e-c000.snappy.parquet.crc  \n",
            " extracting: ./sales_parquet/.part-00030-e651a798-938c-4056-96ac-b29d9c3b497e-c000.snappy.parquet.crc  \n",
            " extracting: ./sales_parquet/.part-00031-e651a798-938c-4056-96ac-b29d9c3b497e-c000.snappy.parquet.crc  \n",
            " extracting: ./sales_parquet/.part-00032-e651a798-938c-4056-96ac-b29d9c3b497e-c000.snappy.parquet.crc  \n",
            " extracting: ./sales_parquet/.part-00033-e651a798-938c-4056-96ac-b29d9c3b497e-c000.snappy.parquet.crc  \n",
            " extracting: ./sales_parquet/.part-00034-e651a798-938c-4056-96ac-b29d9c3b497e-c000.snappy.parquet.crc  \n",
            " extracting: ./sales_parquet/.part-00035-e651a798-938c-4056-96ac-b29d9c3b497e-c000.snappy.parquet.crc  \n",
            " extracting: ./sales_parquet/.part-00036-e651a798-938c-4056-96ac-b29d9c3b497e-c000.snappy.parquet.crc  \n",
            " extracting: ./sales_parquet/.part-00037-e651a798-938c-4056-96ac-b29d9c3b497e-c000.snappy.parquet.crc  \n",
            " extracting: ./sales_parquet/.part-00038-e651a798-938c-4056-96ac-b29d9c3b497e-c000.snappy.parquet.crc  \n",
            " extracting: ./sales_parquet/.part-00039-e651a798-938c-4056-96ac-b29d9c3b497e-c000.snappy.parquet.crc  \n",
            " extracting: ./sales_parquet/.part-00040-e651a798-938c-4056-96ac-b29d9c3b497e-c000.snappy.parquet.crc  \n",
            " extracting: ./sales_parquet/.part-00041-e651a798-938c-4056-96ac-b29d9c3b497e-c000.snappy.parquet.crc  \n",
            " extracting: ./sales_parquet/.part-00042-e651a798-938c-4056-96ac-b29d9c3b497e-c000.snappy.parquet.crc  \n",
            " extracting: ./sales_parquet/.part-00043-e651a798-938c-4056-96ac-b29d9c3b497e-c000.snappy.parquet.crc  \n",
            " extracting: ./sales_parquet/.part-00044-e651a798-938c-4056-96ac-b29d9c3b497e-c000.snappy.parquet.crc  \n",
            " extracting: ./sales_parquet/.part-00045-e651a798-938c-4056-96ac-b29d9c3b497e-c000.snappy.parquet.crc  \n",
            " extracting: ./sales_parquet/.part-00046-e651a798-938c-4056-96ac-b29d9c3b497e-c000.snappy.parquet.crc  \n",
            " extracting: ./sales_parquet/.part-00047-e651a798-938c-4056-96ac-b29d9c3b497e-c000.snappy.parquet.crc  \n",
            " extracting: ./sales_parquet/.part-00048-e651a798-938c-4056-96ac-b29d9c3b497e-c000.snappy.parquet.crc  \n",
            " extracting: ./sales_parquet/.part-00049-e651a798-938c-4056-96ac-b29d9c3b497e-c000.snappy.parquet.crc  \n",
            " extracting: ./sales_parquet/.part-00050-e651a798-938c-4056-96ac-b29d9c3b497e-c000.snappy.parquet.crc  \n",
            " extracting: ./sales_parquet/.part-00051-e651a798-938c-4056-96ac-b29d9c3b497e-c000.snappy.parquet.crc  \n",
            " extracting: ./sales_parquet/.part-00052-e651a798-938c-4056-96ac-b29d9c3b497e-c000.snappy.parquet.crc  \n",
            " extracting: ./sales_parquet/.part-00053-e651a798-938c-4056-96ac-b29d9c3b497e-c000.snappy.parquet.crc  \n",
            " extracting: ./sales_parquet/.part-00054-e651a798-938c-4056-96ac-b29d9c3b497e-c000.snappy.parquet.crc  \n",
            " extracting: ./sales_parquet/.part-00055-e651a798-938c-4056-96ac-b29d9c3b497e-c000.snappy.parquet.crc  \n",
            " extracting: ./sales_parquet/.part-00056-e651a798-938c-4056-96ac-b29d9c3b497e-c000.snappy.parquet.crc  \n",
            " extracting: ./sales_parquet/.part-00057-e651a798-938c-4056-96ac-b29d9c3b497e-c000.snappy.parquet.crc  \n",
            " extracting: ./sales_parquet/.part-00058-e651a798-938c-4056-96ac-b29d9c3b497e-c000.snappy.parquet.crc  \n",
            " extracting: ./sales_parquet/.part-00059-e651a798-938c-4056-96ac-b29d9c3b497e-c000.snappy.parquet.crc  \n",
            " extracting: ./sales_parquet/.part-00060-e651a798-938c-4056-96ac-b29d9c3b497e-c000.snappy.parquet.crc  \n",
            " extracting: ./sales_parquet/.part-00061-e651a798-938c-4056-96ac-b29d9c3b497e-c000.snappy.parquet.crc  \n",
            " extracting: ./sales_parquet/.part-00062-e651a798-938c-4056-96ac-b29d9c3b497e-c000.snappy.parquet.crc  \n",
            " extracting: ./sales_parquet/.part-00063-e651a798-938c-4056-96ac-b29d9c3b497e-c000.snappy.parquet.crc  \n",
            " extracting: ./sales_parquet/.part-00064-e651a798-938c-4056-96ac-b29d9c3b497e-c000.snappy.parquet.crc  \n",
            " extracting: ./sales_parquet/.part-00065-e651a798-938c-4056-96ac-b29d9c3b497e-c000.snappy.parquet.crc  \n",
            " extracting: ./sales_parquet/.part-00066-e651a798-938c-4056-96ac-b29d9c3b497e-c000.snappy.parquet.crc  \n",
            " extracting: ./sales_parquet/.part-00067-e651a798-938c-4056-96ac-b29d9c3b497e-c000.snappy.parquet.crc  \n",
            " extracting: ./sales_parquet/.part-00068-e651a798-938c-4056-96ac-b29d9c3b497e-c000.snappy.parquet.crc  \n",
            " extracting: ./sales_parquet/.part-00069-e651a798-938c-4056-96ac-b29d9c3b497e-c000.snappy.parquet.crc  \n",
            " extracting: ./sales_parquet/.part-00070-e651a798-938c-4056-96ac-b29d9c3b497e-c000.snappy.parquet.crc  \n",
            " extracting: ./sales_parquet/.part-00071-e651a798-938c-4056-96ac-b29d9c3b497e-c000.snappy.parquet.crc  \n",
            " extracting: ./sales_parquet/.part-00072-e651a798-938c-4056-96ac-b29d9c3b497e-c000.snappy.parquet.crc  \n",
            " extracting: ./sales_parquet/.part-00073-e651a798-938c-4056-96ac-b29d9c3b497e-c000.snappy.parquet.crc  \n",
            " extracting: ./sales_parquet/.part-00074-e651a798-938c-4056-96ac-b29d9c3b497e-c000.snappy.parquet.crc  \n",
            " extracting: ./sales_parquet/.part-00075-e651a798-938c-4056-96ac-b29d9c3b497e-c000.snappy.parquet.crc  \n",
            " extracting: ./sales_parquet/.part-00076-e651a798-938c-4056-96ac-b29d9c3b497e-c000.snappy.parquet.crc  \n",
            " extracting: ./sales_parquet/.part-00077-e651a798-938c-4056-96ac-b29d9c3b497e-c000.snappy.parquet.crc  \n",
            " extracting: ./sales_parquet/.part-00078-e651a798-938c-4056-96ac-b29d9c3b497e-c000.snappy.parquet.crc  \n",
            " extracting: ./sales_parquet/.part-00079-e651a798-938c-4056-96ac-b29d9c3b497e-c000.snappy.parquet.crc  \n",
            " extracting: ./sales_parquet/.part-00080-e651a798-938c-4056-96ac-b29d9c3b497e-c000.snappy.parquet.crc  \n",
            " extracting: ./sales_parquet/.part-00081-e651a798-938c-4056-96ac-b29d9c3b497e-c000.snappy.parquet.crc  \n",
            " extracting: ./sales_parquet/.part-00082-e651a798-938c-4056-96ac-b29d9c3b497e-c000.snappy.parquet.crc  \n",
            " extracting: ./sales_parquet/.part-00083-e651a798-938c-4056-96ac-b29d9c3b497e-c000.snappy.parquet.crc  \n",
            " extracting: ./sales_parquet/.part-00084-e651a798-938c-4056-96ac-b29d9c3b497e-c000.snappy.parquet.crc  \n",
            " extracting: ./sales_parquet/.part-00085-e651a798-938c-4056-96ac-b29d9c3b497e-c000.snappy.parquet.crc  \n",
            " extracting: ./sales_parquet/.part-00086-e651a798-938c-4056-96ac-b29d9c3b497e-c000.snappy.parquet.crc  \n",
            " extracting: ./sales_parquet/.part-00087-e651a798-938c-4056-96ac-b29d9c3b497e-c000.snappy.parquet.crc  \n",
            " extracting: ./sales_parquet/.part-00088-e651a798-938c-4056-96ac-b29d9c3b497e-c000.snappy.parquet.crc  \n",
            " extracting: ./sales_parquet/.part-00089-e651a798-938c-4056-96ac-b29d9c3b497e-c000.snappy.parquet.crc  \n",
            " extracting: ./sales_parquet/.part-00090-e651a798-938c-4056-96ac-b29d9c3b497e-c000.snappy.parquet.crc  \n",
            " extracting: ./sales_parquet/.part-00091-e651a798-938c-4056-96ac-b29d9c3b497e-c000.snappy.parquet.crc  \n",
            " extracting: ./sales_parquet/.part-00092-e651a798-938c-4056-96ac-b29d9c3b497e-c000.snappy.parquet.crc  \n",
            " extracting: ./sales_parquet/.part-00093-e651a798-938c-4056-96ac-b29d9c3b497e-c000.snappy.parquet.crc  \n",
            " extracting: ./sales_parquet/.part-00094-e651a798-938c-4056-96ac-b29d9c3b497e-c000.snappy.parquet.crc  \n",
            " extracting: ./sales_parquet/.part-00095-e651a798-938c-4056-96ac-b29d9c3b497e-c000.snappy.parquet.crc  \n",
            " extracting: ./sales_parquet/.part-00096-e651a798-938c-4056-96ac-b29d9c3b497e-c000.snappy.parquet.crc  \n",
            " extracting: ./sales_parquet/.part-00097-e651a798-938c-4056-96ac-b29d9c3b497e-c000.snappy.parquet.crc  \n",
            " extracting: ./sales_parquet/.part-00098-e651a798-938c-4056-96ac-b29d9c3b497e-c000.snappy.parquet.crc  \n",
            " extracting: ./sales_parquet/.part-00099-e651a798-938c-4056-96ac-b29d9c3b497e-c000.snappy.parquet.crc  \n",
            " extracting: ./sales_parquet/.part-00100-e651a798-938c-4056-96ac-b29d9c3b497e-c000.snappy.parquet.crc  \n",
            " extracting: ./sales_parquet/.part-00101-e651a798-938c-4056-96ac-b29d9c3b497e-c000.snappy.parquet.crc  \n",
            " extracting: ./sales_parquet/.part-00102-e651a798-938c-4056-96ac-b29d9c3b497e-c000.snappy.parquet.crc  \n",
            " extracting: ./sales_parquet/.part-00103-e651a798-938c-4056-96ac-b29d9c3b497e-c000.snappy.parquet.crc  \n",
            " extracting: ./sales_parquet/.part-00104-e651a798-938c-4056-96ac-b29d9c3b497e-c000.snappy.parquet.crc  \n",
            " extracting: ./sales_parquet/.part-00105-e651a798-938c-4056-96ac-b29d9c3b497e-c000.snappy.parquet.crc  \n",
            " extracting: ./sales_parquet/.part-00106-e651a798-938c-4056-96ac-b29d9c3b497e-c000.snappy.parquet.crc  \n",
            " extracting: ./sales_parquet/.part-00107-e651a798-938c-4056-96ac-b29d9c3b497e-c000.snappy.parquet.crc  \n",
            " extracting: ./sales_parquet/.part-00108-e651a798-938c-4056-96ac-b29d9c3b497e-c000.snappy.parquet.crc  \n",
            " extracting: ./sales_parquet/.part-00109-e651a798-938c-4056-96ac-b29d9c3b497e-c000.snappy.parquet.crc  \n",
            " extracting: ./sales_parquet/.part-00110-e651a798-938c-4056-96ac-b29d9c3b497e-c000.snappy.parquet.crc  \n",
            " extracting: ./sales_parquet/.part-00111-e651a798-938c-4056-96ac-b29d9c3b497e-c000.snappy.parquet.crc  \n",
            " extracting: ./sales_parquet/.part-00112-e651a798-938c-4056-96ac-b29d9c3b497e-c000.snappy.parquet.crc  \n",
            " extracting: ./sales_parquet/.part-00113-e651a798-938c-4056-96ac-b29d9c3b497e-c000.snappy.parquet.crc  \n",
            " extracting: ./sales_parquet/.part-00114-e651a798-938c-4056-96ac-b29d9c3b497e-c000.snappy.parquet.crc  \n",
            " extracting: ./sales_parquet/.part-00115-e651a798-938c-4056-96ac-b29d9c3b497e-c000.snappy.parquet.crc  \n",
            " extracting: ./sales_parquet/.part-00116-e651a798-938c-4056-96ac-b29d9c3b497e-c000.snappy.parquet.crc  \n",
            " extracting: ./sales_parquet/.part-00117-e651a798-938c-4056-96ac-b29d9c3b497e-c000.snappy.parquet.crc  \n",
            " extracting: ./sales_parquet/.part-00118-e651a798-938c-4056-96ac-b29d9c3b497e-c000.snappy.parquet.crc  \n",
            " extracting: ./sales_parquet/.part-00119-e651a798-938c-4056-96ac-b29d9c3b497e-c000.snappy.parquet.crc  \n",
            " extracting: ./sales_parquet/.part-00120-e651a798-938c-4056-96ac-b29d9c3b497e-c000.snappy.parquet.crc  \n",
            " extracting: ./sales_parquet/.part-00121-e651a798-938c-4056-96ac-b29d9c3b497e-c000.snappy.parquet.crc  \n",
            " extracting: ./sales_parquet/.part-00122-e651a798-938c-4056-96ac-b29d9c3b497e-c000.snappy.parquet.crc  \n",
            " extracting: ./sales_parquet/.part-00123-e651a798-938c-4056-96ac-b29d9c3b497e-c000.snappy.parquet.crc  \n",
            " extracting: ./sales_parquet/.part-00124-e651a798-938c-4056-96ac-b29d9c3b497e-c000.snappy.parquet.crc  \n",
            " extracting: ./sales_parquet/.part-00125-e651a798-938c-4056-96ac-b29d9c3b497e-c000.snappy.parquet.crc  \n",
            " extracting: ./sales_parquet/.part-00126-e651a798-938c-4056-96ac-b29d9c3b497e-c000.snappy.parquet.crc  \n",
            " extracting: ./sales_parquet/.part-00127-e651a798-938c-4056-96ac-b29d9c3b497e-c000.snappy.parquet.crc  \n",
            " extracting: ./sales_parquet/.part-00128-e651a798-938c-4056-96ac-b29d9c3b497e-c000.snappy.parquet.crc  \n",
            " extracting: ./sales_parquet/.part-00129-e651a798-938c-4056-96ac-b29d9c3b497e-c000.snappy.parquet.crc  \n",
            " extracting: ./sales_parquet/.part-00130-e651a798-938c-4056-96ac-b29d9c3b497e-c000.snappy.parquet.crc  \n",
            " extracting: ./sales_parquet/.part-00131-e651a798-938c-4056-96ac-b29d9c3b497e-c000.snappy.parquet.crc  \n",
            " extracting: ./sales_parquet/.part-00132-e651a798-938c-4056-96ac-b29d9c3b497e-c000.snappy.parquet.crc  \n",
            " extracting: ./sales_parquet/.part-00133-e651a798-938c-4056-96ac-b29d9c3b497e-c000.snappy.parquet.crc  \n",
            " extracting: ./sales_parquet/.part-00134-e651a798-938c-4056-96ac-b29d9c3b497e-c000.snappy.parquet.crc  \n",
            " extracting: ./sales_parquet/.part-00135-e651a798-938c-4056-96ac-b29d9c3b497e-c000.snappy.parquet.crc  \n",
            " extracting: ./sales_parquet/.part-00136-e651a798-938c-4056-96ac-b29d9c3b497e-c000.snappy.parquet.crc  \n",
            " extracting: ./sales_parquet/.part-00137-e651a798-938c-4056-96ac-b29d9c3b497e-c000.snappy.parquet.crc  \n",
            " extracting: ./sales_parquet/.part-00138-e651a798-938c-4056-96ac-b29d9c3b497e-c000.snappy.parquet.crc  \n",
            " extracting: ./sales_parquet/.part-00139-e651a798-938c-4056-96ac-b29d9c3b497e-c000.snappy.parquet.crc  \n",
            " extracting: ./sales_parquet/.part-00140-e651a798-938c-4056-96ac-b29d9c3b497e-c000.snappy.parquet.crc  \n",
            " extracting: ./sales_parquet/.part-00141-e651a798-938c-4056-96ac-b29d9c3b497e-c000.snappy.parquet.crc  \n",
            " extracting: ./sales_parquet/.part-00142-e651a798-938c-4056-96ac-b29d9c3b497e-c000.snappy.parquet.crc  \n",
            " extracting: ./sales_parquet/.part-00143-e651a798-938c-4056-96ac-b29d9c3b497e-c000.snappy.parquet.crc  \n",
            " extracting: ./sales_parquet/.part-00144-e651a798-938c-4056-96ac-b29d9c3b497e-c000.snappy.parquet.crc  \n",
            " extracting: ./sales_parquet/.part-00145-e651a798-938c-4056-96ac-b29d9c3b497e-c000.snappy.parquet.crc  \n",
            " extracting: ./sales_parquet/.part-00146-e651a798-938c-4056-96ac-b29d9c3b497e-c000.snappy.parquet.crc  \n",
            " extracting: ./sales_parquet/.part-00147-e651a798-938c-4056-96ac-b29d9c3b497e-c000.snappy.parquet.crc  \n",
            " extracting: ./sales_parquet/.part-00148-e651a798-938c-4056-96ac-b29d9c3b497e-c000.snappy.parquet.crc  \n",
            " extracting: ./sales_parquet/.part-00149-e651a798-938c-4056-96ac-b29d9c3b497e-c000.snappy.parquet.crc  \n",
            " extracting: ./sales_parquet/.part-00150-e651a798-938c-4056-96ac-b29d9c3b497e-c000.snappy.parquet.crc  \n",
            " extracting: ./sales_parquet/.part-00151-e651a798-938c-4056-96ac-b29d9c3b497e-c000.snappy.parquet.crc  \n",
            " extracting: ./sales_parquet/.part-00152-e651a798-938c-4056-96ac-b29d9c3b497e-c000.snappy.parquet.crc  \n",
            " extracting: ./sales_parquet/.part-00153-e651a798-938c-4056-96ac-b29d9c3b497e-c000.snappy.parquet.crc  \n",
            " extracting: ./sales_parquet/.part-00154-e651a798-938c-4056-96ac-b29d9c3b497e-c000.snappy.parquet.crc  \n",
            " extracting: ./sales_parquet/.part-00155-e651a798-938c-4056-96ac-b29d9c3b497e-c000.snappy.parquet.crc  \n",
            " extracting: ./sales_parquet/.part-00156-e651a798-938c-4056-96ac-b29d9c3b497e-c000.snappy.parquet.crc  \n",
            " extracting: ./sales_parquet/.part-00157-e651a798-938c-4056-96ac-b29d9c3b497e-c000.snappy.parquet.crc  \n",
            " extracting: ./sales_parquet/.part-00158-e651a798-938c-4056-96ac-b29d9c3b497e-c000.snappy.parquet.crc  \n",
            " extracting: ./sales_parquet/.part-00159-e651a798-938c-4056-96ac-b29d9c3b497e-c000.snappy.parquet.crc  \n",
            " extracting: ./sales_parquet/.part-00160-e651a798-938c-4056-96ac-b29d9c3b497e-c000.snappy.parquet.crc  \n",
            " extracting: ./sales_parquet/.part-00161-e651a798-938c-4056-96ac-b29d9c3b497e-c000.snappy.parquet.crc  \n",
            " extracting: ./sales_parquet/.part-00162-e651a798-938c-4056-96ac-b29d9c3b497e-c000.snappy.parquet.crc  \n",
            " extracting: ./sales_parquet/.part-00163-e651a798-938c-4056-96ac-b29d9c3b497e-c000.snappy.parquet.crc  \n",
            " extracting: ./sales_parquet/.part-00164-e651a798-938c-4056-96ac-b29d9c3b497e-c000.snappy.parquet.crc  \n",
            " extracting: ./sales_parquet/.part-00165-e651a798-938c-4056-96ac-b29d9c3b497e-c000.snappy.parquet.crc  \n",
            " extracting: ./sales_parquet/.part-00166-e651a798-938c-4056-96ac-b29d9c3b497e-c000.snappy.parquet.crc  \n",
            " extracting: ./sales_parquet/.part-00167-e651a798-938c-4056-96ac-b29d9c3b497e-c000.snappy.parquet.crc  \n",
            " extracting: ./sales_parquet/.part-00168-e651a798-938c-4056-96ac-b29d9c3b497e-c000.snappy.parquet.crc  \n",
            " extracting: ./sales_parquet/.part-00169-e651a798-938c-4056-96ac-b29d9c3b497e-c000.snappy.parquet.crc  \n",
            " extracting: ./sales_parquet/.part-00170-e651a798-938c-4056-96ac-b29d9c3b497e-c000.snappy.parquet.crc  \n",
            " extracting: ./sales_parquet/.part-00171-e651a798-938c-4056-96ac-b29d9c3b497e-c000.snappy.parquet.crc  \n",
            " extracting: ./sales_parquet/.part-00172-e651a798-938c-4056-96ac-b29d9c3b497e-c000.snappy.parquet.crc  \n",
            " extracting: ./sales_parquet/.part-00173-e651a798-938c-4056-96ac-b29d9c3b497e-c000.snappy.parquet.crc  \n",
            " extracting: ./sales_parquet/.part-00174-e651a798-938c-4056-96ac-b29d9c3b497e-c000.snappy.parquet.crc  \n",
            " extracting: ./sales_parquet/.part-00175-e651a798-938c-4056-96ac-b29d9c3b497e-c000.snappy.parquet.crc  \n",
            " extracting: ./sales_parquet/.part-00176-e651a798-938c-4056-96ac-b29d9c3b497e-c000.snappy.parquet.crc  \n",
            " extracting: ./sales_parquet/.part-00177-e651a798-938c-4056-96ac-b29d9c3b497e-c000.snappy.parquet.crc  \n",
            " extracting: ./sales_parquet/.part-00178-e651a798-938c-4056-96ac-b29d9c3b497e-c000.snappy.parquet.crc  \n",
            " extracting: ./sales_parquet/.part-00179-e651a798-938c-4056-96ac-b29d9c3b497e-c000.snappy.parquet.crc  \n",
            " extracting: ./sales_parquet/.part-00180-e651a798-938c-4056-96ac-b29d9c3b497e-c000.snappy.parquet.crc  \n",
            " extracting: ./sales_parquet/.part-00181-e651a798-938c-4056-96ac-b29d9c3b497e-c000.snappy.parquet.crc  \n",
            " extracting: ./sales_parquet/.part-00182-e651a798-938c-4056-96ac-b29d9c3b497e-c000.snappy.parquet.crc  \n",
            " extracting: ./sales_parquet/.part-00183-e651a798-938c-4056-96ac-b29d9c3b497e-c000.snappy.parquet.crc  \n",
            " extracting: ./sales_parquet/.part-00184-e651a798-938c-4056-96ac-b29d9c3b497e-c000.snappy.parquet.crc  \n",
            " extracting: ./sales_parquet/.part-00185-e651a798-938c-4056-96ac-b29d9c3b497e-c000.snappy.parquet.crc  \n",
            " extracting: ./sales_parquet/.part-00186-e651a798-938c-4056-96ac-b29d9c3b497e-c000.snappy.parquet.crc  \n",
            " extracting: ./sales_parquet/.part-00187-e651a798-938c-4056-96ac-b29d9c3b497e-c000.snappy.parquet.crc  \n",
            " extracting: ./sales_parquet/.part-00188-e651a798-938c-4056-96ac-b29d9c3b497e-c000.snappy.parquet.crc  \n",
            " extracting: ./sales_parquet/.part-00189-e651a798-938c-4056-96ac-b29d9c3b497e-c000.snappy.parquet.crc  \n",
            " extracting: ./sales_parquet/.part-00190-e651a798-938c-4056-96ac-b29d9c3b497e-c000.snappy.parquet.crc  \n",
            " extracting: ./sales_parquet/.part-00191-e651a798-938c-4056-96ac-b29d9c3b497e-c000.snappy.parquet.crc  \n",
            " extracting: ./sales_parquet/.part-00192-e651a798-938c-4056-96ac-b29d9c3b497e-c000.snappy.parquet.crc  \n",
            " extracting: ./sales_parquet/.part-00193-e651a798-938c-4056-96ac-b29d9c3b497e-c000.snappy.parquet.crc  \n",
            " extracting: ./sales_parquet/.part-00194-e651a798-938c-4056-96ac-b29d9c3b497e-c000.snappy.parquet.crc  \n",
            " extracting: ./sales_parquet/.part-00195-e651a798-938c-4056-96ac-b29d9c3b497e-c000.snappy.parquet.crc  \n",
            " extracting: ./sales_parquet/.part-00196-e651a798-938c-4056-96ac-b29d9c3b497e-c000.snappy.parquet.crc  \n",
            " extracting: ./sales_parquet/.part-00197-e651a798-938c-4056-96ac-b29d9c3b497e-c000.snappy.parquet.crc  \n",
            " extracting: ./sales_parquet/.part-00198-e651a798-938c-4056-96ac-b29d9c3b497e-c000.snappy.parquet.crc  \n",
            " extracting: ./sales_parquet/.part-00199-e651a798-938c-4056-96ac-b29d9c3b497e-c000.snappy.parquet.crc  \n",
            " extracting: ./sales_parquet/._SUCCESS.crc  \n",
            "  inflating: ./sales_parquet/part-00000-e651a798-938c-4056-96ac-b29d9c3b497e-c000.snappy.parquet  \n",
            "  inflating: ./sales_parquet/part-00001-e651a798-938c-4056-96ac-b29d9c3b497e-c000.snappy.parquet  \n",
            "  inflating: ./sales_parquet/part-00002-e651a798-938c-4056-96ac-b29d9c3b497e-c000.snappy.parquet  \n",
            "  inflating: ./sales_parquet/part-00003-e651a798-938c-4056-96ac-b29d9c3b497e-c000.snappy.parquet  \n",
            "  inflating: ./sales_parquet/part-00004-e651a798-938c-4056-96ac-b29d9c3b497e-c000.snappy.parquet  \n",
            "  inflating: ./sales_parquet/part-00005-e651a798-938c-4056-96ac-b29d9c3b497e-c000.snappy.parquet  \n",
            "  inflating: ./sales_parquet/part-00006-e651a798-938c-4056-96ac-b29d9c3b497e-c000.snappy.parquet  \n",
            "  inflating: ./sales_parquet/part-00007-e651a798-938c-4056-96ac-b29d9c3b497e-c000.snappy.parquet  \n",
            "  inflating: ./sales_parquet/part-00008-e651a798-938c-4056-96ac-b29d9c3b497e-c000.snappy.parquet  \n",
            "  inflating: ./sales_parquet/part-00009-e651a798-938c-4056-96ac-b29d9c3b497e-c000.snappy.parquet  \n",
            "  inflating: ./sales_parquet/part-00010-e651a798-938c-4056-96ac-b29d9c3b497e-c000.snappy.parquet  \n",
            "  inflating: ./sales_parquet/part-00011-e651a798-938c-4056-96ac-b29d9c3b497e-c000.snappy.parquet  \n",
            "  inflating: ./sales_parquet/part-00012-e651a798-938c-4056-96ac-b29d9c3b497e-c000.snappy.parquet  \n",
            "  inflating: ./sales_parquet/part-00013-e651a798-938c-4056-96ac-b29d9c3b497e-c000.snappy.parquet  \n",
            "  inflating: ./sales_parquet/part-00014-e651a798-938c-4056-96ac-b29d9c3b497e-c000.snappy.parquet  \n",
            "  inflating: ./sales_parquet/part-00015-e651a798-938c-4056-96ac-b29d9c3b497e-c000.snappy.parquet  \n",
            "  inflating: ./sales_parquet/part-00016-e651a798-938c-4056-96ac-b29d9c3b497e-c000.snappy.parquet  \n",
            "  inflating: ./sales_parquet/part-00017-e651a798-938c-4056-96ac-b29d9c3b497e-c000.snappy.parquet  \n",
            "  inflating: ./sales_parquet/part-00018-e651a798-938c-4056-96ac-b29d9c3b497e-c000.snappy.parquet  \n",
            "  inflating: ./sales_parquet/part-00019-e651a798-938c-4056-96ac-b29d9c3b497e-c000.snappy.parquet  \n",
            "  inflating: ./sales_parquet/part-00020-e651a798-938c-4056-96ac-b29d9c3b497e-c000.snappy.parquet  \n",
            "  inflating: ./sales_parquet/part-00021-e651a798-938c-4056-96ac-b29d9c3b497e-c000.snappy.parquet  \n",
            "  inflating: ./sales_parquet/part-00022-e651a798-938c-4056-96ac-b29d9c3b497e-c000.snappy.parquet  \n",
            "  inflating: ./sales_parquet/part-00023-e651a798-938c-4056-96ac-b29d9c3b497e-c000.snappy.parquet  \n",
            "  inflating: ./sales_parquet/part-00024-e651a798-938c-4056-96ac-b29d9c3b497e-c000.snappy.parquet  \n",
            "  inflating: ./sales_parquet/part-00025-e651a798-938c-4056-96ac-b29d9c3b497e-c000.snappy.parquet  \n",
            "  inflating: ./sales_parquet/part-00026-e651a798-938c-4056-96ac-b29d9c3b497e-c000.snappy.parquet  \n",
            "  inflating: ./sales_parquet/part-00027-e651a798-938c-4056-96ac-b29d9c3b497e-c000.snappy.parquet  \n",
            "  inflating: ./sales_parquet/part-00028-e651a798-938c-4056-96ac-b29d9c3b497e-c000.snappy.parquet  \n",
            "  inflating: ./sales_parquet/part-00029-e651a798-938c-4056-96ac-b29d9c3b497e-c000.snappy.parquet  \n",
            "  inflating: ./sales_parquet/part-00030-e651a798-938c-4056-96ac-b29d9c3b497e-c000.snappy.parquet  \n",
            "  inflating: ./sales_parquet/part-00031-e651a798-938c-4056-96ac-b29d9c3b497e-c000.snappy.parquet  \n",
            "  inflating: ./sales_parquet/part-00032-e651a798-938c-4056-96ac-b29d9c3b497e-c000.snappy.parquet  \n",
            "  inflating: ./sales_parquet/part-00033-e651a798-938c-4056-96ac-b29d9c3b497e-c000.snappy.parquet  \n",
            "  inflating: ./sales_parquet/part-00034-e651a798-938c-4056-96ac-b29d9c3b497e-c000.snappy.parquet  \n",
            "  inflating: ./sales_parquet/part-00035-e651a798-938c-4056-96ac-b29d9c3b497e-c000.snappy.parquet  \n",
            "  inflating: ./sales_parquet/part-00036-e651a798-938c-4056-96ac-b29d9c3b497e-c000.snappy.parquet  \n",
            "  inflating: ./sales_parquet/part-00037-e651a798-938c-4056-96ac-b29d9c3b497e-c000.snappy.parquet  \n",
            "  inflating: ./sales_parquet/part-00038-e651a798-938c-4056-96ac-b29d9c3b497e-c000.snappy.parquet  \n",
            "  inflating: ./sales_parquet/part-00039-e651a798-938c-4056-96ac-b29d9c3b497e-c000.snappy.parquet  \n",
            "  inflating: ./sales_parquet/part-00040-e651a798-938c-4056-96ac-b29d9c3b497e-c000.snappy.parquet  \n",
            "  inflating: ./sales_parquet/part-00041-e651a798-938c-4056-96ac-b29d9c3b497e-c000.snappy.parquet  \n",
            "  inflating: ./sales_parquet/part-00042-e651a798-938c-4056-96ac-b29d9c3b497e-c000.snappy.parquet  \n",
            "  inflating: ./sales_parquet/part-00043-e651a798-938c-4056-96ac-b29d9c3b497e-c000.snappy.parquet  \n",
            "  inflating: ./sales_parquet/part-00044-e651a798-938c-4056-96ac-b29d9c3b497e-c000.snappy.parquet  \n",
            "  inflating: ./sales_parquet/part-00045-e651a798-938c-4056-96ac-b29d9c3b497e-c000.snappy.parquet  \n",
            "  inflating: ./sales_parquet/part-00046-e651a798-938c-4056-96ac-b29d9c3b497e-c000.snappy.parquet  \n",
            "  inflating: ./sales_parquet/part-00047-e651a798-938c-4056-96ac-b29d9c3b497e-c000.snappy.parquet  \n",
            "  inflating: ./sales_parquet/part-00048-e651a798-938c-4056-96ac-b29d9c3b497e-c000.snappy.parquet  \n",
            "  inflating: ./sales_parquet/part-00049-e651a798-938c-4056-96ac-b29d9c3b497e-c000.snappy.parquet  \n",
            "  inflating: ./sales_parquet/part-00050-e651a798-938c-4056-96ac-b29d9c3b497e-c000.snappy.parquet  \n",
            "  inflating: ./sales_parquet/part-00051-e651a798-938c-4056-96ac-b29d9c3b497e-c000.snappy.parquet  \n",
            "  inflating: ./sales_parquet/part-00052-e651a798-938c-4056-96ac-b29d9c3b497e-c000.snappy.parquet  \n",
            "  inflating: ./sales_parquet/part-00053-e651a798-938c-4056-96ac-b29d9c3b497e-c000.snappy.parquet  \n",
            "  inflating: ./sales_parquet/part-00054-e651a798-938c-4056-96ac-b29d9c3b497e-c000.snappy.parquet  \n",
            "  inflating: ./sales_parquet/part-00055-e651a798-938c-4056-96ac-b29d9c3b497e-c000.snappy.parquet  \n",
            "  inflating: ./sales_parquet/part-00056-e651a798-938c-4056-96ac-b29d9c3b497e-c000.snappy.parquet  \n",
            "  inflating: ./sales_parquet/part-00057-e651a798-938c-4056-96ac-b29d9c3b497e-c000.snappy.parquet  \n",
            "  inflating: ./sales_parquet/part-00058-e651a798-938c-4056-96ac-b29d9c3b497e-c000.snappy.parquet  \n",
            "  inflating: ./sales_parquet/part-00059-e651a798-938c-4056-96ac-b29d9c3b497e-c000.snappy.parquet  \n",
            "  inflating: ./sales_parquet/part-00060-e651a798-938c-4056-96ac-b29d9c3b497e-c000.snappy.parquet  \n",
            "  inflating: ./sales_parquet/part-00061-e651a798-938c-4056-96ac-b29d9c3b497e-c000.snappy.parquet  \n",
            "  inflating: ./sales_parquet/part-00062-e651a798-938c-4056-96ac-b29d9c3b497e-c000.snappy.parquet  \n",
            "  inflating: ./sales_parquet/part-00063-e651a798-938c-4056-96ac-b29d9c3b497e-c000.snappy.parquet  \n",
            "  inflating: ./sales_parquet/part-00064-e651a798-938c-4056-96ac-b29d9c3b497e-c000.snappy.parquet  \n",
            "  inflating: ./sales_parquet/part-00065-e651a798-938c-4056-96ac-b29d9c3b497e-c000.snappy.parquet  \n",
            "  inflating: ./sales_parquet/part-00066-e651a798-938c-4056-96ac-b29d9c3b497e-c000.snappy.parquet  \n",
            "  inflating: ./sales_parquet/part-00067-e651a798-938c-4056-96ac-b29d9c3b497e-c000.snappy.parquet  \n",
            "  inflating: ./sales_parquet/part-00068-e651a798-938c-4056-96ac-b29d9c3b497e-c000.snappy.parquet  \n",
            "  inflating: ./sales_parquet/part-00069-e651a798-938c-4056-96ac-b29d9c3b497e-c000.snappy.parquet  \n",
            "  inflating: ./sales_parquet/part-00070-e651a798-938c-4056-96ac-b29d9c3b497e-c000.snappy.parquet  \n",
            "  inflating: ./sales_parquet/part-00071-e651a798-938c-4056-96ac-b29d9c3b497e-c000.snappy.parquet  \n",
            "  inflating: ./sales_parquet/part-00072-e651a798-938c-4056-96ac-b29d9c3b497e-c000.snappy.parquet  \n",
            "  inflating: ./sales_parquet/part-00073-e651a798-938c-4056-96ac-b29d9c3b497e-c000.snappy.parquet  \n",
            "  inflating: ./sales_parquet/part-00074-e651a798-938c-4056-96ac-b29d9c3b497e-c000.snappy.parquet  \n",
            "  inflating: ./sales_parquet/part-00075-e651a798-938c-4056-96ac-b29d9c3b497e-c000.snappy.parquet  \n",
            "  inflating: ./sales_parquet/part-00076-e651a798-938c-4056-96ac-b29d9c3b497e-c000.snappy.parquet  \n",
            "  inflating: ./sales_parquet/part-00077-e651a798-938c-4056-96ac-b29d9c3b497e-c000.snappy.parquet  \n",
            "  inflating: ./sales_parquet/part-00078-e651a798-938c-4056-96ac-b29d9c3b497e-c000.snappy.parquet  \n",
            "  inflating: ./sales_parquet/part-00079-e651a798-938c-4056-96ac-b29d9c3b497e-c000.snappy.parquet  \n",
            "  inflating: ./sales_parquet/part-00080-e651a798-938c-4056-96ac-b29d9c3b497e-c000.snappy.parquet  \n",
            "  inflating: ./sales_parquet/part-00081-e651a798-938c-4056-96ac-b29d9c3b497e-c000.snappy.parquet  \n",
            "  inflating: ./sales_parquet/part-00082-e651a798-938c-4056-96ac-b29d9c3b497e-c000.snappy.parquet  \n",
            "  inflating: ./sales_parquet/part-00083-e651a798-938c-4056-96ac-b29d9c3b497e-c000.snappy.parquet  \n",
            "  inflating: ./sales_parquet/part-00084-e651a798-938c-4056-96ac-b29d9c3b497e-c000.snappy.parquet  \n",
            "  inflating: ./sales_parquet/part-00085-e651a798-938c-4056-96ac-b29d9c3b497e-c000.snappy.parquet  \n",
            "  inflating: ./sales_parquet/part-00086-e651a798-938c-4056-96ac-b29d9c3b497e-c000.snappy.parquet  \n",
            "  inflating: ./sales_parquet/part-00087-e651a798-938c-4056-96ac-b29d9c3b497e-c000.snappy.parquet  \n",
            "  inflating: ./sales_parquet/part-00088-e651a798-938c-4056-96ac-b29d9c3b497e-c000.snappy.parquet  \n",
            "  inflating: ./sales_parquet/part-00089-e651a798-938c-4056-96ac-b29d9c3b497e-c000.snappy.parquet  \n",
            "  inflating: ./sales_parquet/part-00090-e651a798-938c-4056-96ac-b29d9c3b497e-c000.snappy.parquet  \n",
            "  inflating: ./sales_parquet/part-00091-e651a798-938c-4056-96ac-b29d9c3b497e-c000.snappy.parquet  \n",
            "  inflating: ./sales_parquet/part-00092-e651a798-938c-4056-96ac-b29d9c3b497e-c000.snappy.parquet  \n",
            "  inflating: ./sales_parquet/part-00093-e651a798-938c-4056-96ac-b29d9c3b497e-c000.snappy.parquet  \n",
            "  inflating: ./sales_parquet/part-00094-e651a798-938c-4056-96ac-b29d9c3b497e-c000.snappy.parquet  \n",
            "  inflating: ./sales_parquet/part-00095-e651a798-938c-4056-96ac-b29d9c3b497e-c000.snappy.parquet  \n",
            "  inflating: ./sales_parquet/part-00096-e651a798-938c-4056-96ac-b29d9c3b497e-c000.snappy.parquet  \n",
            "  inflating: ./sales_parquet/part-00097-e651a798-938c-4056-96ac-b29d9c3b497e-c000.snappy.parquet  \n",
            "  inflating: ./sales_parquet/part-00098-e651a798-938c-4056-96ac-b29d9c3b497e-c000.snappy.parquet  \n",
            "  inflating: ./sales_parquet/part-00099-e651a798-938c-4056-96ac-b29d9c3b497e-c000.snappy.parquet  \n",
            "  inflating: ./sales_parquet/part-00100-e651a798-938c-4056-96ac-b29d9c3b497e-c000.snappy.parquet  \n",
            "  inflating: ./sales_parquet/part-00101-e651a798-938c-4056-96ac-b29d9c3b497e-c000.snappy.parquet  \n",
            "  inflating: ./sales_parquet/part-00102-e651a798-938c-4056-96ac-b29d9c3b497e-c000.snappy.parquet  \n",
            "  inflating: ./sales_parquet/part-00103-e651a798-938c-4056-96ac-b29d9c3b497e-c000.snappy.parquet  \n",
            "  inflating: ./sales_parquet/part-00104-e651a798-938c-4056-96ac-b29d9c3b497e-c000.snappy.parquet  \n",
            "  inflating: ./sales_parquet/part-00105-e651a798-938c-4056-96ac-b29d9c3b497e-c000.snappy.parquet  \n",
            "  inflating: ./sales_parquet/part-00106-e651a798-938c-4056-96ac-b29d9c3b497e-c000.snappy.parquet  \n",
            "  inflating: ./sales_parquet/part-00107-e651a798-938c-4056-96ac-b29d9c3b497e-c000.snappy.parquet  \n",
            "  inflating: ./sales_parquet/part-00108-e651a798-938c-4056-96ac-b29d9c3b497e-c000.snappy.parquet  \n",
            "  inflating: ./sales_parquet/part-00109-e651a798-938c-4056-96ac-b29d9c3b497e-c000.snappy.parquet  \n",
            "  inflating: ./sales_parquet/part-00110-e651a798-938c-4056-96ac-b29d9c3b497e-c000.snappy.parquet  \n",
            "  inflating: ./sales_parquet/part-00111-e651a798-938c-4056-96ac-b29d9c3b497e-c000.snappy.parquet  \n",
            "  inflating: ./sales_parquet/part-00112-e651a798-938c-4056-96ac-b29d9c3b497e-c000.snappy.parquet  \n",
            "  inflating: ./sales_parquet/part-00113-e651a798-938c-4056-96ac-b29d9c3b497e-c000.snappy.parquet  \n",
            "  inflating: ./sales_parquet/part-00114-e651a798-938c-4056-96ac-b29d9c3b497e-c000.snappy.parquet  \n",
            "  inflating: ./sales_parquet/part-00115-e651a798-938c-4056-96ac-b29d9c3b497e-c000.snappy.parquet  \n",
            "  inflating: ./sales_parquet/part-00116-e651a798-938c-4056-96ac-b29d9c3b497e-c000.snappy.parquet  \n",
            "  inflating: ./sales_parquet/part-00117-e651a798-938c-4056-96ac-b29d9c3b497e-c000.snappy.parquet  \n",
            "  inflating: ./sales_parquet/part-00118-e651a798-938c-4056-96ac-b29d9c3b497e-c000.snappy.parquet  \n",
            "  inflating: ./sales_parquet/part-00119-e651a798-938c-4056-96ac-b29d9c3b497e-c000.snappy.parquet  \n",
            "  inflating: ./sales_parquet/part-00120-e651a798-938c-4056-96ac-b29d9c3b497e-c000.snappy.parquet  \n",
            "  inflating: ./sales_parquet/part-00121-e651a798-938c-4056-96ac-b29d9c3b497e-c000.snappy.parquet  \n",
            "  inflating: ./sales_parquet/part-00122-e651a798-938c-4056-96ac-b29d9c3b497e-c000.snappy.parquet  \n",
            "  inflating: ./sales_parquet/part-00123-e651a798-938c-4056-96ac-b29d9c3b497e-c000.snappy.parquet  \n",
            "  inflating: ./sales_parquet/part-00124-e651a798-938c-4056-96ac-b29d9c3b497e-c000.snappy.parquet  \n",
            "  inflating: ./sales_parquet/part-00125-e651a798-938c-4056-96ac-b29d9c3b497e-c000.snappy.parquet  \n",
            "  inflating: ./sales_parquet/part-00126-e651a798-938c-4056-96ac-b29d9c3b497e-c000.snappy.parquet  \n",
            "  inflating: ./sales_parquet/part-00127-e651a798-938c-4056-96ac-b29d9c3b497e-c000.snappy.parquet  \n",
            "  inflating: ./sales_parquet/part-00128-e651a798-938c-4056-96ac-b29d9c3b497e-c000.snappy.parquet  \n",
            "  inflating: ./sales_parquet/part-00129-e651a798-938c-4056-96ac-b29d9c3b497e-c000.snappy.parquet  \n",
            "  inflating: ./sales_parquet/part-00130-e651a798-938c-4056-96ac-b29d9c3b497e-c000.snappy.parquet  \n",
            "  inflating: ./sales_parquet/part-00131-e651a798-938c-4056-96ac-b29d9c3b497e-c000.snappy.parquet  \n",
            "  inflating: ./sales_parquet/part-00132-e651a798-938c-4056-96ac-b29d9c3b497e-c000.snappy.parquet  \n",
            "  inflating: ./sales_parquet/part-00133-e651a798-938c-4056-96ac-b29d9c3b497e-c000.snappy.parquet  \n",
            "  inflating: ./sales_parquet/part-00134-e651a798-938c-4056-96ac-b29d9c3b497e-c000.snappy.parquet  \n",
            "  inflating: ./sales_parquet/part-00135-e651a798-938c-4056-96ac-b29d9c3b497e-c000.snappy.parquet  \n",
            "  inflating: ./sales_parquet/part-00136-e651a798-938c-4056-96ac-b29d9c3b497e-c000.snappy.parquet  \n",
            "  inflating: ./sales_parquet/part-00137-e651a798-938c-4056-96ac-b29d9c3b497e-c000.snappy.parquet  \n",
            "  inflating: ./sales_parquet/part-00138-e651a798-938c-4056-96ac-b29d9c3b497e-c000.snappy.parquet  \n",
            "  inflating: ./sales_parquet/part-00139-e651a798-938c-4056-96ac-b29d9c3b497e-c000.snappy.parquet  \n",
            "  inflating: ./sales_parquet/part-00140-e651a798-938c-4056-96ac-b29d9c3b497e-c000.snappy.parquet  \n",
            "  inflating: ./sales_parquet/part-00141-e651a798-938c-4056-96ac-b29d9c3b497e-c000.snappy.parquet  \n",
            "  inflating: ./sales_parquet/part-00142-e651a798-938c-4056-96ac-b29d9c3b497e-c000.snappy.parquet  \n",
            "  inflating: ./sales_parquet/part-00143-e651a798-938c-4056-96ac-b29d9c3b497e-c000.snappy.parquet  \n",
            "  inflating: ./sales_parquet/part-00144-e651a798-938c-4056-96ac-b29d9c3b497e-c000.snappy.parquet  \n",
            "  inflating: ./sales_parquet/part-00145-e651a798-938c-4056-96ac-b29d9c3b497e-c000.snappy.parquet  \n",
            "  inflating: ./sales_parquet/part-00146-e651a798-938c-4056-96ac-b29d9c3b497e-c000.snappy.parquet  \n",
            "  inflating: ./sales_parquet/part-00147-e651a798-938c-4056-96ac-b29d9c3b497e-c000.snappy.parquet  \n",
            "  inflating: ./sales_parquet/part-00148-e651a798-938c-4056-96ac-b29d9c3b497e-c000.snappy.parquet  \n",
            "  inflating: ./sales_parquet/part-00149-e651a798-938c-4056-96ac-b29d9c3b497e-c000.snappy.parquet  \n",
            "  inflating: ./sales_parquet/part-00150-e651a798-938c-4056-96ac-b29d9c3b497e-c000.snappy.parquet  \n",
            "  inflating: ./sales_parquet/part-00151-e651a798-938c-4056-96ac-b29d9c3b497e-c000.snappy.parquet  \n",
            "  inflating: ./sales_parquet/part-00152-e651a798-938c-4056-96ac-b29d9c3b497e-c000.snappy.parquet  \n",
            "  inflating: ./sales_parquet/part-00153-e651a798-938c-4056-96ac-b29d9c3b497e-c000.snappy.parquet  \n",
            "  inflating: ./sales_parquet/part-00154-e651a798-938c-4056-96ac-b29d9c3b497e-c000.snappy.parquet  \n",
            "  inflating: ./sales_parquet/part-00155-e651a798-938c-4056-96ac-b29d9c3b497e-c000.snappy.parquet  \n",
            "  inflating: ./sales_parquet/part-00156-e651a798-938c-4056-96ac-b29d9c3b497e-c000.snappy.parquet  \n",
            "  inflating: ./sales_parquet/part-00157-e651a798-938c-4056-96ac-b29d9c3b497e-c000.snappy.parquet  \n",
            "  inflating: ./sales_parquet/part-00158-e651a798-938c-4056-96ac-b29d9c3b497e-c000.snappy.parquet  \n",
            "  inflating: ./sales_parquet/part-00159-e651a798-938c-4056-96ac-b29d9c3b497e-c000.snappy.parquet  \n",
            "  inflating: ./sales_parquet/part-00160-e651a798-938c-4056-96ac-b29d9c3b497e-c000.snappy.parquet  \n",
            "  inflating: ./sales_parquet/part-00161-e651a798-938c-4056-96ac-b29d9c3b497e-c000.snappy.parquet  \n",
            "  inflating: ./sales_parquet/part-00162-e651a798-938c-4056-96ac-b29d9c3b497e-c000.snappy.parquet  \n",
            "  inflating: ./sales_parquet/part-00163-e651a798-938c-4056-96ac-b29d9c3b497e-c000.snappy.parquet  \n",
            "  inflating: ./sales_parquet/part-00164-e651a798-938c-4056-96ac-b29d9c3b497e-c000.snappy.parquet  \n",
            "  inflating: ./sales_parquet/part-00165-e651a798-938c-4056-96ac-b29d9c3b497e-c000.snappy.parquet  \n",
            "  inflating: ./sales_parquet/part-00166-e651a798-938c-4056-96ac-b29d9c3b497e-c000.snappy.parquet  \n",
            "  inflating: ./sales_parquet/part-00167-e651a798-938c-4056-96ac-b29d9c3b497e-c000.snappy.parquet  \n",
            "  inflating: ./sales_parquet/part-00168-e651a798-938c-4056-96ac-b29d9c3b497e-c000.snappy.parquet  \n",
            "  inflating: ./sales_parquet/part-00169-e651a798-938c-4056-96ac-b29d9c3b497e-c000.snappy.parquet  \n",
            "  inflating: ./sales_parquet/part-00170-e651a798-938c-4056-96ac-b29d9c3b497e-c000.snappy.parquet  \n",
            "  inflating: ./sales_parquet/part-00171-e651a798-938c-4056-96ac-b29d9c3b497e-c000.snappy.parquet  \n",
            "  inflating: ./sales_parquet/part-00172-e651a798-938c-4056-96ac-b29d9c3b497e-c000.snappy.parquet  \n",
            "  inflating: ./sales_parquet/part-00173-e651a798-938c-4056-96ac-b29d9c3b497e-c000.snappy.parquet  \n",
            "  inflating: ./sales_parquet/part-00174-e651a798-938c-4056-96ac-b29d9c3b497e-c000.snappy.parquet  \n",
            "  inflating: ./sales_parquet/part-00175-e651a798-938c-4056-96ac-b29d9c3b497e-c000.snappy.parquet  \n",
            "  inflating: ./sales_parquet/part-00176-e651a798-938c-4056-96ac-b29d9c3b497e-c000.snappy.parquet  \n",
            "  inflating: ./sales_parquet/part-00177-e651a798-938c-4056-96ac-b29d9c3b497e-c000.snappy.parquet  \n",
            "  inflating: ./sales_parquet/part-00178-e651a798-938c-4056-96ac-b29d9c3b497e-c000.snappy.parquet  \n",
            "  inflating: ./sales_parquet/part-00179-e651a798-938c-4056-96ac-b29d9c3b497e-c000.snappy.parquet  \n",
            "  inflating: ./sales_parquet/part-00180-e651a798-938c-4056-96ac-b29d9c3b497e-c000.snappy.parquet  \n",
            "  inflating: ./sales_parquet/part-00181-e651a798-938c-4056-96ac-b29d9c3b497e-c000.snappy.parquet  \n",
            "  inflating: ./sales_parquet/part-00182-e651a798-938c-4056-96ac-b29d9c3b497e-c000.snappy.parquet  \n",
            "  inflating: ./sales_parquet/part-00183-e651a798-938c-4056-96ac-b29d9c3b497e-c000.snappy.parquet  \n",
            "  inflating: ./sales_parquet/part-00184-e651a798-938c-4056-96ac-b29d9c3b497e-c000.snappy.parquet  \n",
            "  inflating: ./sales_parquet/part-00185-e651a798-938c-4056-96ac-b29d9c3b497e-c000.snappy.parquet  \n",
            "  inflating: ./sales_parquet/part-00186-e651a798-938c-4056-96ac-b29d9c3b497e-c000.snappy.parquet  \n",
            "  inflating: ./sales_parquet/part-00187-e651a798-938c-4056-96ac-b29d9c3b497e-c000.snappy.parquet  \n",
            "  inflating: ./sales_parquet/part-00188-e651a798-938c-4056-96ac-b29d9c3b497e-c000.snappy.parquet  \n",
            "  inflating: ./sales_parquet/part-00189-e651a798-938c-4056-96ac-b29d9c3b497e-c000.snappy.parquet  \n",
            "  inflating: ./sales_parquet/part-00190-e651a798-938c-4056-96ac-b29d9c3b497e-c000.snappy.parquet  \n",
            "  inflating: ./sales_parquet/part-00191-e651a798-938c-4056-96ac-b29d9c3b497e-c000.snappy.parquet  \n",
            "  inflating: ./sales_parquet/part-00192-e651a798-938c-4056-96ac-b29d9c3b497e-c000.snappy.parquet  \n",
            "  inflating: ./sales_parquet/part-00193-e651a798-938c-4056-96ac-b29d9c3b497e-c000.snappy.parquet  \n",
            "  inflating: ./sales_parquet/part-00194-e651a798-938c-4056-96ac-b29d9c3b497e-c000.snappy.parquet  \n",
            "  inflating: ./sales_parquet/part-00195-e651a798-938c-4056-96ac-b29d9c3b497e-c000.snappy.parquet  \n",
            "  inflating: ./sales_parquet/part-00196-e651a798-938c-4056-96ac-b29d9c3b497e-c000.snappy.parquet  \n",
            "  inflating: ./sales_parquet/part-00197-e651a798-938c-4056-96ac-b29d9c3b497e-c000.snappy.parquet  \n",
            "  inflating: ./sales_parquet/part-00198-e651a798-938c-4056-96ac-b29d9c3b497e-c000.snappy.parquet  \n",
            "  inflating: ./sales_parquet/part-00199-e651a798-938c-4056-96ac-b29d9c3b497e-c000.snappy.parquet  \n",
            " extracting: ./sales_parquet/_SUCCESS  \n",
            "   creating: ./sellers_parquet/\n",
            " extracting: ./sellers_parquet/.part-00000-54f48a9e-d67c-4c29-aed7-1b5f6f117c12-c000.snappy.parquet.crc  \n",
            " extracting: ./sellers_parquet/._SUCCESS.crc  \n",
            "  inflating: ./sellers_parquet/part-00000-54f48a9e-d67c-4c29-aed7-1b5f6f117c12-c000.snappy.parquet  \n",
            " extracting: ./sellers_parquet/_SUCCESS  \n"
          ]
        }
      ]
    },
    {
      "cell_type": "markdown",
      "source": [
        "***Reading Files From Google Drive***"
      ],
      "metadata": {
        "id": "n12RXUevLpCp"
      }
    },
    {
      "cell_type": "code",
      "source": [
        "import pyspark\n",
        "from pyspark.sql import SparkSession \n",
        "spark = SparkSession.builder.appName(\"Spark1\").config('spark.ui.port', '4040').getOrCreate()\n",
        "\n",
        "products = spark.read.parquet(\"products_parquet\")\n",
        "sales = spark.read.parquet(\"sales_parquet\")\n",
        "sellers = spark.read.parquet(\"sellers_parquet\")"
      ],
      "metadata": {
        "id": "ldzyt-xULjh-"
      },
      "execution_count": 5,
      "outputs": []
    },
    {
      "cell_type": "markdown",
      "source": [
        "***Converting Pyspark DataFrame to Pyspark Pandas Dataframe***"
      ],
      "metadata": {
        "id": "v4SnnaKIL1Ov"
      }
    },
    {
      "cell_type": "code",
      "source": [
        "import pyspark.pandas as ps\n",
        "\n",
        "products_pd = products.to_pandas_on_spark()\n",
        "sales_pd = sales.to_pandas_on_spark()\n",
        "sellers_pd = sellers.to_pandas_on_spark()"
      ],
      "metadata": {
        "colab": {
          "base_uri": "https://localhost:8080/"
        },
        "id": "wETMHiQkL0ST",
        "outputId": "2620dfdc-d525-47af-a332-b56f48ed3948"
      },
      "execution_count": 36,
      "outputs": [
        {
          "output_type": "stream",
          "name": "stderr",
          "text": [
            "WARNING:root:'PYARROW_IGNORE_TIMEZONE' environment variable was not set. It is required to set this environment variable to '1' in both driver and executor sides if you use pyarrow>=2.0.0. pandas-on-Spark will set it for you but it does not work if there is a Spark context already launched.\n"
          ]
        }
      ]
    },
    {
      "cell_type": "markdown",
      "source": [
        "# سوال ۱"
      ],
      "metadata": {
        "id": "xfVnoRJPMEQw"
      }
    },
    {
      "cell_type": "markdown",
      "source": [
        "## الف"
      ],
      "metadata": {
        "id": "09JkGR4FMGhe"
      }
    },
    {
      "cell_type": "code",
      "source": [
        "orders_num = ps.sql(\"select count(order_id) from {sales_pd}\")\n",
        "products_num = ps.sql(\"select count(product_id) from {products_pd}\")\n",
        "sellers_num = ps.sql(\"select count(seller_id) from {sellers_pd}\")\n",
        "print(\"Number of orders:\\n\"+str(orders_num)+\"\\n\\nNumber of products:\\n\"+str(products_num)+\"\\n\\nNumber of sellers:\\n\"+str(sellers_num))"
      ],
      "metadata": {
        "colab": {
          "base_uri": "https://localhost:8080/"
        },
        "id": "90PtJF5BMIHi",
        "outputId": "f653cd19-0f4e-415b-f0c4-a17cb3bf5b2d"
      },
      "execution_count": 7,
      "outputs": [
        {
          "output_type": "stream",
          "name": "stdout",
          "text": [
            "Number of orders:\n",
            "   count(order_id)\n",
            "0         20000040\n",
            "\n",
            "Number of products:\n",
            "   count(product_id)\n",
            "0           75000000\n",
            "\n",
            "Number of sellers:\n",
            "   count(seller_id)\n",
            "0                10\n"
          ]
        }
      ]
    },
    {
      "cell_type": "code",
      "source": [
        "orders_num = sales.count()\n",
        "products_num = products.count()\n",
        "sellers_num = sellers.count()\n",
        "print(\"Number of orders:\\n\"+str(orders_num)+\"\\n\\nNumber of products:\\n\"+str(products_num)+\"\\n\\nNumber of sellers:\\n\"+str(sellers_num))"
      ],
      "metadata": {
        "colab": {
          "base_uri": "https://localhost:8080/"
        },
        "id": "lbcHjsW-MMaN",
        "outputId": "542a07f3-b269-4d59-b9a1-0791ef222497"
      },
      "execution_count": 8,
      "outputs": [
        {
          "output_type": "stream",
          "name": "stdout",
          "text": [
            "Number of orders:\n",
            "20000040\n",
            "\n",
            "Number of products:\n",
            "75000000\n",
            "\n",
            "Number of sellers:\n",
            "10\n"
          ]
        }
      ]
    },
    {
      "cell_type": "markdown",
      "source": [
        "## ب"
      ],
      "metadata": {
        "id": "CoRUnKfoMTRs"
      }
    },
    {
      "cell_type": "code",
      "source": [
        "ps.sql(\"select count(distinct product_id) from {sales_pd}\")"
      ],
      "metadata": {
        "colab": {
          "base_uri": "https://localhost:8080/",
          "height": 81
        },
        "id": "1_gnHfR1MO1l",
        "outputId": "4f64e73b-c066-441d-e470-413811741a96"
      },
      "execution_count": 9,
      "outputs": [
        {
          "output_type": "execute_result",
          "data": {
            "text/html": [
              "<div>\n",
              "<style scoped>\n",
              "    .dataframe tbody tr th:only-of-type {\n",
              "        vertical-align: middle;\n",
              "    }\n",
              "\n",
              "    .dataframe tbody tr th {\n",
              "        vertical-align: top;\n",
              "    }\n",
              "\n",
              "    .dataframe thead th {\n",
              "        text-align: right;\n",
              "    }\n",
              "</style>\n",
              "<table border=\"1\" class=\"dataframe\">\n",
              "  <thead>\n",
              "    <tr style=\"text-align: right;\">\n",
              "      <th></th>\n",
              "      <th>count(DISTINCT product_id)</th>\n",
              "    </tr>\n",
              "  </thead>\n",
              "  <tbody>\n",
              "    <tr>\n",
              "      <th>0</th>\n",
              "      <td>993429</td>\n",
              "    </tr>\n",
              "  </tbody>\n",
              "</table>\n",
              "</div>"
            ],
            "text/plain": [
              "   count(DISTINCT product_id)\n",
              "0                      993429"
            ]
          },
          "metadata": {},
          "execution_count": 9
        }
      ]
    },
    {
      "cell_type": "code",
      "source": [
        "from pyspark.sql.functions import countDistinct\n",
        "sold_products = sales.select(countDistinct(\"product_id\"))\n",
        "sold_products.show()"
      ],
      "metadata": {
        "colab": {
          "base_uri": "https://localhost:8080/"
        },
        "id": "dox_V76pMWBz",
        "outputId": "b089b11e-b2b1-4d4b-8352-a08af43efbd8"
      },
      "execution_count": 10,
      "outputs": [
        {
          "output_type": "stream",
          "name": "stdout",
          "text": [
            "+--------------------------+\n",
            "|count(DISTINCT product_id)|\n",
            "+--------------------------+\n",
            "|                    993429|\n",
            "+--------------------------+\n",
            "\n"
          ]
        }
      ]
    },
    {
      "cell_type": "markdown",
      "source": [
        "## ج"
      ],
      "metadata": {
        "id": "VPhHiivrMXjG"
      }
    },
    {
      "cell_type": "code",
      "source": [
        "#num_sold_pro = ps.sql(\"select sp.product_id,product_name,count(sp.product_id) as sold_p from {sales_pd} as sp,{products_pd} as pp where sp.product_id=pp.product_id group by sp.product_id,pp.product_name\")\n",
        "num_sold_pro = ps.sql(\"select sp.product_id,product_name,sum(sp.num_pieces_sold) as sold_p from {sales_pd} as sp,{products_pd} as pp where sp.product_id=pp.product_id group by sp.product_id,pp.product_name\")\n",
        "ps.sql(\"select product_id,product_name,sold_p as most_frequent from {num_sold_pro} where sold_p=(select max(sold_p) from {num_sold_pro})\")"
      ],
      "metadata": {
        "colab": {
          "base_uri": "https://localhost:8080/",
          "height": 81
        },
        "id": "Cv69HrabMY75",
        "outputId": "b1a2de04-5751-4f18-ba4a-240d27da7b75"
      },
      "execution_count": 8,
      "outputs": [
        {
          "output_type": "execute_result",
          "data": {
            "text/html": [
              "<div>\n",
              "<style scoped>\n",
              "    .dataframe tbody tr th:only-of-type {\n",
              "        vertical-align: middle;\n",
              "    }\n",
              "\n",
              "    .dataframe tbody tr th {\n",
              "        vertical-align: top;\n",
              "    }\n",
              "\n",
              "    .dataframe thead th {\n",
              "        text-align: right;\n",
              "    }\n",
              "</style>\n",
              "<table border=\"1\" class=\"dataframe\">\n",
              "  <thead>\n",
              "    <tr style=\"text-align: right;\">\n",
              "      <th></th>\n",
              "      <th>product_id</th>\n",
              "      <th>product_name</th>\n",
              "      <th>most_frequent</th>\n",
              "    </tr>\n",
              "  </thead>\n",
              "  <tbody>\n",
              "    <tr>\n",
              "      <th>0</th>\n",
              "      <td>0</td>\n",
              "      <td>product_0</td>\n",
              "      <td>959445802.0</td>\n",
              "    </tr>\n",
              "  </tbody>\n",
              "</table>\n",
              "</div>"
            ],
            "text/plain": [
              "  product_id product_name  most_frequent\n",
              "0          0    product_0    959445802.0"
            ]
          },
          "metadata": {},
          "execution_count": 8
        }
      ]
    },
    {
      "cell_type": "code",
      "source": [
        "#num_sold = sales.groupBy('product_id').count().withColumnRenamed(\"count\",\"frequency\")\n",
        "num_sold = sales.groupBy('product_id').agg({'num_pieces_sold':'sum'}).withColumnRenamed(\"sum(num_pieces_sold)\",\"frequency\")\n",
        "num_sold.filter(num_sold.frequency == num_sold.agg({'frequency':'max'}).collect()[0][0]).show()"
      ],
      "metadata": {
        "colab": {
          "base_uri": "https://localhost:8080/"
        },
        "id": "rCNqTyOYMba1",
        "outputId": "893cf970-a8c5-4ad3-d96b-278963bb71d8"
      },
      "execution_count": 9,
      "outputs": [
        {
          "output_type": "stream",
          "name": "stdout",
          "text": [
            "+----------+------------+\n",
            "|product_id|   frequency|\n",
            "+----------+------------+\n",
            "|         0|9.59445802E8|\n",
            "+----------+------------+\n",
            "\n"
          ]
        }
      ]
    },
    {
      "cell_type": "markdown",
      "source": [
        "# سوال ۲"
      ],
      "metadata": {
        "id": "oohWo3fuMdem"
      }
    },
    {
      "cell_type": "code",
      "source": [
        "ps.sql(\"select date,count(distinct product_id) from {sales_pd} group by date\")"
      ],
      "metadata": {
        "colab": {
          "base_uri": "https://localhost:8080/",
          "height": 363
        },
        "id": "zLM7LKoJMe3m",
        "outputId": "5ff7d250-b831-45f4-a6b3-6794907e1ee6"
      },
      "execution_count": 20,
      "outputs": [
        {
          "output_type": "execute_result",
          "data": {
            "text/html": [
              "<div>\n",
              "<style scoped>\n",
              "    .dataframe tbody tr th:only-of-type {\n",
              "        vertical-align: middle;\n",
              "    }\n",
              "\n",
              "    .dataframe tbody tr th {\n",
              "        vertical-align: top;\n",
              "    }\n",
              "\n",
              "    .dataframe thead th {\n",
              "        text-align: right;\n",
              "    }\n",
              "</style>\n",
              "<table border=\"1\" class=\"dataframe\">\n",
              "  <thead>\n",
              "    <tr style=\"text-align: right;\">\n",
              "      <th></th>\n",
              "      <th>date</th>\n",
              "      <th>count(DISTINCT product_id)</th>\n",
              "    </tr>\n",
              "  </thead>\n",
              "  <tbody>\n",
              "    <tr>\n",
              "      <th>0</th>\n",
              "      <td>2020-07-03</td>\n",
              "      <td>100017</td>\n",
              "    </tr>\n",
              "    <tr>\n",
              "      <th>1</th>\n",
              "      <td>2020-07-07</td>\n",
              "      <td>99756</td>\n",
              "    </tr>\n",
              "    <tr>\n",
              "      <th>2</th>\n",
              "      <td>2020-07-01</td>\n",
              "      <td>100337</td>\n",
              "    </tr>\n",
              "    <tr>\n",
              "      <th>3</th>\n",
              "      <td>2020-07-08</td>\n",
              "      <td>99662</td>\n",
              "    </tr>\n",
              "    <tr>\n",
              "      <th>4</th>\n",
              "      <td>2020-07-04</td>\n",
              "      <td>99791</td>\n",
              "    </tr>\n",
              "    <tr>\n",
              "      <th>5</th>\n",
              "      <td>2020-07-10</td>\n",
              "      <td>98973</td>\n",
              "    </tr>\n",
              "    <tr>\n",
              "      <th>6</th>\n",
              "      <td>2020-07-09</td>\n",
              "      <td>100501</td>\n",
              "    </tr>\n",
              "    <tr>\n",
              "      <th>7</th>\n",
              "      <td>2020-07-06</td>\n",
              "      <td>100765</td>\n",
              "    </tr>\n",
              "    <tr>\n",
              "      <th>8</th>\n",
              "      <td>2020-07-02</td>\n",
              "      <td>99807</td>\n",
              "    </tr>\n",
              "    <tr>\n",
              "      <th>9</th>\n",
              "      <td>2020-07-05</td>\n",
              "      <td>99796</td>\n",
              "    </tr>\n",
              "  </tbody>\n",
              "</table>\n",
              "</div>"
            ],
            "text/plain": [
              "         date  count(DISTINCT product_id)\n",
              "0  2020-07-03                      100017\n",
              "1  2020-07-07                       99756\n",
              "2  2020-07-01                      100337\n",
              "3  2020-07-08                       99662\n",
              "4  2020-07-04                       99791\n",
              "5  2020-07-10                       98973\n",
              "6  2020-07-09                      100501\n",
              "7  2020-07-06                      100765\n",
              "8  2020-07-02                       99807\n",
              "9  2020-07-05                       99796"
            ]
          },
          "metadata": {},
          "execution_count": 20
        }
      ]
    },
    {
      "cell_type": "code",
      "source": [
        "sales.select('product_id','date').distinct().groupBy('date').count().show()"
      ],
      "metadata": {
        "colab": {
          "base_uri": "https://localhost:8080/"
        },
        "id": "xmwMTzq8Mh9H",
        "outputId": "ef99d25d-7157-4cb8-ca82-a45db9e88764"
      },
      "execution_count": 21,
      "outputs": [
        {
          "output_type": "stream",
          "name": "stdout",
          "text": [
            "+----------+------+\n",
            "|      date| count|\n",
            "+----------+------+\n",
            "|2020-07-03|100017|\n",
            "|2020-07-07| 99756|\n",
            "|2020-07-01|100337|\n",
            "|2020-07-08| 99662|\n",
            "|2020-07-04| 99791|\n",
            "|2020-07-10| 98973|\n",
            "|2020-07-09|100501|\n",
            "|2020-07-06|100765|\n",
            "|2020-07-02| 99807|\n",
            "|2020-07-05| 99796|\n",
            "+----------+------+\n",
            "\n"
          ]
        }
      ]
    },
    {
      "cell_type": "markdown",
      "source": [
        "# سوال ۳"
      ],
      "metadata": {
        "id": "Z5lISOTxMkZ_"
      }
    },
    {
      "cell_type": "code",
      "source": [
        "ps.sql(\"select avg(price) from {sales_pd},{products_pd} where {sales_pd}.product_id={products_pd}.product_id\")"
      ],
      "metadata": {
        "colab": {
          "base_uri": "https://localhost:8080/",
          "height": 81
        },
        "id": "kX1bcxzuMmBF",
        "outputId": "823958f6-fe76-42b0-c309-ba26b5f982cf"
      },
      "execution_count": 22,
      "outputs": [
        {
          "output_type": "execute_result",
          "data": {
            "text/html": [
              "<div>\n",
              "<style scoped>\n",
              "    .dataframe tbody tr th:only-of-type {\n",
              "        vertical-align: middle;\n",
              "    }\n",
              "\n",
              "    .dataframe tbody tr th {\n",
              "        vertical-align: top;\n",
              "    }\n",
              "\n",
              "    .dataframe thead th {\n",
              "        text-align: right;\n",
              "    }\n",
              "</style>\n",
              "<table border=\"1\" class=\"dataframe\">\n",
              "  <thead>\n",
              "    <tr style=\"text-align: right;\">\n",
              "      <th></th>\n",
              "      <th>avg(price)</th>\n",
              "    </tr>\n",
              "  </thead>\n",
              "  <tbody>\n",
              "    <tr>\n",
              "      <th>0</th>\n",
              "      <td>24.67622</td>\n",
              "    </tr>\n",
              "  </tbody>\n",
              "</table>\n",
              "</div>"
            ],
            "text/plain": [
              "   avg(price)\n",
              "0    24.67622"
            ]
          },
          "metadata": {},
          "execution_count": 22
        }
      ]
    },
    {
      "cell_type": "markdown",
      "source": [
        "# سوال ۴"
      ],
      "metadata": {
        "id": "TSo0GeBPMt1L"
      }
    },
    {
      "cell_type": "code",
      "source": [
        "sales_sellers = ps.sql(\"select sa.seller_id,sa.num_pieces_sold*100/se.daily_target as order_percent from {sales_pd} as sa,{sellers_pd} as se where sa.seller_id==se.seller_id\")\n",
        "ps.sql(\"select seller_id,avg(order_percent) from {sales_sellers} group by seller_id\")"
      ],
      "metadata": {
        "colab": {
          "base_uri": "https://localhost:8080/",
          "height": 363
        },
        "id": "h_7m5qfmq1Pg",
        "outputId": "4d2d7e16-18f0-40e8-b6ea-4559062b444c"
      },
      "execution_count": 52,
      "outputs": [
        {
          "output_type": "execute_result",
          "data": {
            "text/html": [
              "<div>\n",
              "<style scoped>\n",
              "    .dataframe tbody tr th:only-of-type {\n",
              "        vertical-align: middle;\n",
              "    }\n",
              "\n",
              "    .dataframe tbody tr th {\n",
              "        vertical-align: top;\n",
              "    }\n",
              "\n",
              "    .dataframe thead th {\n",
              "        text-align: right;\n",
              "    }\n",
              "</style>\n",
              "<table border=\"1\" class=\"dataframe\">\n",
              "  <thead>\n",
              "    <tr style=\"text-align: right;\">\n",
              "      <th></th>\n",
              "      <th>seller_id</th>\n",
              "      <th>avg(order_percent)</th>\n",
              "    </tr>\n",
              "  </thead>\n",
              "  <tbody>\n",
              "    <tr>\n",
              "      <th>0</th>\n",
              "      <td>0</td>\n",
              "      <td>0.002020</td>\n",
              "    </tr>\n",
              "    <tr>\n",
              "      <th>1</th>\n",
              "      <td>7</td>\n",
              "      <td>0.002595</td>\n",
              "    </tr>\n",
              "    <tr>\n",
              "      <th>2</th>\n",
              "      <td>3</td>\n",
              "      <td>0.016289</td>\n",
              "    </tr>\n",
              "    <tr>\n",
              "      <th>3</th>\n",
              "      <td>8</td>\n",
              "      <td>0.009213</td>\n",
              "    </tr>\n",
              "    <tr>\n",
              "      <th>4</th>\n",
              "      <td>5</td>\n",
              "      <td>0.004211</td>\n",
              "    </tr>\n",
              "    <tr>\n",
              "      <th>5</th>\n",
              "      <td>6</td>\n",
              "      <td>0.004782</td>\n",
              "    </tr>\n",
              "    <tr>\n",
              "      <th>6</th>\n",
              "      <td>9</td>\n",
              "      <td>0.003838</td>\n",
              "    </tr>\n",
              "    <tr>\n",
              "      <th>7</th>\n",
              "      <td>1</td>\n",
              "      <td>0.019642</td>\n",
              "    </tr>\n",
              "    <tr>\n",
              "      <th>8</th>\n",
              "      <td>4</td>\n",
              "      <td>0.003296</td>\n",
              "    </tr>\n",
              "    <tr>\n",
              "      <th>9</th>\n",
              "      <td>2</td>\n",
              "      <td>0.006690</td>\n",
              "    </tr>\n",
              "  </tbody>\n",
              "</table>\n",
              "</div>"
            ],
            "text/plain": [
              "  seller_id  avg(order_percent)\n",
              "0         0            0.002020\n",
              "1         7            0.002595\n",
              "2         3            0.016289\n",
              "3         8            0.009213\n",
              "4         5            0.004211\n",
              "5         6            0.004782\n",
              "6         9            0.003838\n",
              "7         1            0.019642\n",
              "8         4            0.003296\n",
              "9         2            0.006690"
            ]
          },
          "metadata": {},
          "execution_count": 52
        }
      ]
    },
    {
      "cell_type": "markdown",
      "source": [
        "# سوال ۵"
      ],
      "metadata": {
        "id": "MKi0zgvEMxNC"
      }
    },
    {
      "cell_type": "markdown",
      "source": [
        "## الف"
      ],
      "metadata": {
        "id": "S3zwXMuiMyrI"
      }
    },
    {
      "cell_type": "code",
      "source": [
        "num_sold_pro = ps.sql(\"select sp.seller_id,sep.seller_name,count(sp.seller_id) as sold_p from {sales_pd} as sp,{sellers_pd} as sep where sp.seller_id=sep.seller_id group by sp.seller_id,sep.seller_name\")\n",
        "second_max = ps.sql(\"select * from(select row_number() over(order by sold_p desc) as row_num,seller_id,seller_name,sold_p as num_sold_products from {num_sold_pro}) as sub where row_num=2\")\n",
        "second_min = ps.sql(\"select * from(select row_number() over(order by sold_p) as row_num,seller_id,seller_name,sold_p as num_sold_products from {num_sold_pro}) as sub where row_num=2\")\n",
        "print(\"The Second Best Seller:\\n\\n\" + str(second_max) + \"\\n\\n\\nThe Second Worst Seller:\\n\\n\" + str(second_min))"
      ],
      "metadata": {
        "colab": {
          "base_uri": "https://localhost:8080/"
        },
        "id": "0-R9kTAMMz-r",
        "outputId": "41ae1eea-f50d-4252-92aa-39f67b0310cc"
      },
      "execution_count": 10,
      "outputs": [
        {
          "output_type": "stream",
          "name": "stdout",
          "text": [
            "The Second Best Seller:\n",
            "\n",
            "   row_num seller_id seller_name  num_sold_products\n",
            "0        2         9    seller_9             111392\n",
            "\n",
            "\n",
            "The Second Worst Seller:\n",
            "\n",
            "   row_num seller_id seller_name  num_sold_products\n",
            "0        2         5    seller_5             110874\n"
          ]
        }
      ]
    },
    {
      "cell_type": "markdown",
      "source": [
        "## ب"
      ],
      "metadata": {
        "id": "pUDgf9jXM0i6"
      }
    },
    {
      "cell_type": "code",
      "source": [
        "ps.sql(\"select seller_id from {sales_pd} where product_id=0 group by seller_id\")"
      ],
      "metadata": {
        "colab": {
          "base_uri": "https://localhost:8080/",
          "height": 81
        },
        "id": "mBHOBa8pM1x5",
        "outputId": "14056419-122e-4c12-8f3c-9048d60bb4e5"
      },
      "execution_count": 31,
      "outputs": [
        {
          "output_type": "execute_result",
          "data": {
            "text/html": [
              "<div>\n",
              "<style scoped>\n",
              "    .dataframe tbody tr th:only-of-type {\n",
              "        vertical-align: middle;\n",
              "    }\n",
              "\n",
              "    .dataframe tbody tr th {\n",
              "        vertical-align: top;\n",
              "    }\n",
              "\n",
              "    .dataframe thead th {\n",
              "        text-align: right;\n",
              "    }\n",
              "</style>\n",
              "<table border=\"1\" class=\"dataframe\">\n",
              "  <thead>\n",
              "    <tr style=\"text-align: right;\">\n",
              "      <th></th>\n",
              "      <th>seller_id</th>\n",
              "    </tr>\n",
              "  </thead>\n",
              "  <tbody>\n",
              "    <tr>\n",
              "      <th>0</th>\n",
              "      <td>0</td>\n",
              "    </tr>\n",
              "  </tbody>\n",
              "</table>\n",
              "</div>"
            ],
            "text/plain": [
              "  seller_id\n",
              "0         0"
            ]
          },
          "metadata": {},
          "execution_count": 31
        }
      ]
    },
    {
      "cell_type": "code",
      "source": [
        "sales.filter(sales.product_id=='0').groupBy('seller_id').agg({'num_pieces_sold':'sum'}).show()"
      ],
      "metadata": {
        "colab": {
          "base_uri": "https://localhost:8080/"
        },
        "id": "oQTY5yEMo8gs",
        "outputId": "6b2e56b3-52d0-4fa1-cba4-a4e7a32cb999"
      },
      "execution_count": 32,
      "outputs": [
        {
          "output_type": "stream",
          "name": "stdout",
          "text": [
            "+---------+--------------------+\n",
            "|seller_id|sum(num_pieces_sold)|\n",
            "+---------+--------------------+\n",
            "|        0|        9.59445802E8|\n",
            "+---------+--------------------+\n",
            "\n"
          ]
        }
      ]
    },
    {
      "cell_type": "markdown",
      "source": [
        "# سوال ۶"
      ],
      "metadata": {
        "id": "SRG63DmIqixP"
      }
    },
    {
      "cell_type": "code",
      "source": [
        "from pyspark.sql.functions import sha2,udf,col,lit\n",
        "from hashlib import md5\n",
        "from pyspark.sql.types import StringType\n",
        "\n",
        "@udf\n",
        "def hashing(order_id,bill_raw_text):\n",
        "  if order_id % 2 ==0:\n",
        "    for l in bill_raw_text:\n",
        "      if l == 'A':\n",
        "        return md5(bill_raw_text.encode(\"utf-8\") ).hexdigest()\n",
        "  else:\n",
        "    for l in bill_raw_text:\n",
        "      if l == 'A':\n",
        "        return sha2(bill_raw_text,256)\n",
        "\n",
        "hashed = udf(lambda x: hashing(x))\n",
        "\n",
        "sales1 = sales.withColumn(\"hashed_bill\",lit(hashing(sales[\"order_id\"], sales[\"bill_raw_text\"])))\n",
        "sales2 = sales1.groupBy(\"hashed_bill\").count()"
      ],
      "metadata": {
        "id": "82dJXRnxqk8X"
      },
      "execution_count": 60,
      "outputs": []
    }
  ]
}